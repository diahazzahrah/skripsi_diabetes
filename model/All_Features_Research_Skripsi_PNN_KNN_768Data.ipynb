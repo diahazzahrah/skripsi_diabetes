{
  "nbformat": 4,
  "nbformat_minor": 0,
  "metadata": {
    "colab": {
      "provenance": []
    },
    "kernelspec": {
      "name": "python3",
      "display_name": "Python 3"
    },
    "language_info": {
      "name": "python"
    }
  },
  "cells": [
    {
      "cell_type": "markdown",
      "source": [
        "# Klasifikasi Penyakit **Diabetes**\n",
        "\n",
        "---\n",
        "\n"
      ],
      "metadata": {
        "id": "g01b_1PLuZd0"
      }
    },
    {
      "cell_type": "markdown",
      "source": [
        "Tahapan:\n",
        "\n",
        "1. Import Library\n",
        "2. Dataset\n",
        "3. Exploratory Data Analysis (EDA)\n",
        "4. Preprocessing Data \n",
        "5. Feature Selection\n",
        "6. Data Split \n",
        "7. Building Model \n",
        "8. Model Testing \n",
        "9. Evaluation \n",
        "10. Conclusion "
      ],
      "metadata": {
        "id": "Ec0w-OwKusrV"
      }
    },
    {
      "cell_type": "markdown",
      "source": [
        "# Import Library\n",
        "\n",
        "---\n",
        "\n"
      ],
      "metadata": {
        "id": "urGvTWf8vBB0"
      }
    },
    {
      "cell_type": "code",
      "execution_count": 1,
      "metadata": {
        "id": "UJPbE6iGuU2y"
      },
      "outputs": [],
      "source": [
        "import numpy as np \n",
        "import matplotlib.pyplot as plt\n",
        "import pandas as pd\n",
        "import matplotlib.ticker as ticker\n",
        "import itertools \n",
        "import seaborn as sns\n",
        "from pandas.core.dtypes.cast import invalidate_string_dtypes\n",
        "%matplotlib inline"
      ]
    },
    {
      "cell_type": "markdown",
      "source": [
        "# Dataset\n",
        "\n",
        "---\n",
        "\n"
      ],
      "metadata": {
        "id": "RKlS11AXvjyu"
      }
    },
    {
      "cell_type": "markdown",
      "source": [
        "\n",
        "\n",
        "*   Input Dataset\n",
        "*   Load and Read Dataset\n",
        "\n"
      ],
      "metadata": {
        "id": "pkyyaYQ-z_IX"
      }
    },
    {
      "cell_type": "markdown",
      "source": [
        "**Connect Drive for Dataset**"
      ],
      "metadata": {
        "id": "dP9o5PuB3bd5"
      }
    },
    {
      "cell_type": "code",
      "source": [
        "# connect gdrive\n",
        "\n",
        "from google.colab import drive\n",
        "drive.mount('/content/drive')"
      ],
      "metadata": {
        "colab": {
          "base_uri": "https://localhost:8080/"
        },
        "id": "hwQNOtSS3e-J",
        "outputId": "17557710-69df-4c00-e81e-82a63e13b03a"
      },
      "execution_count": 2,
      "outputs": [
        {
          "output_type": "stream",
          "name": "stdout",
          "text": [
            "Mounted at /content/drive\n"
          ]
        }
      ]
    },
    {
      "cell_type": "markdown",
      "source": [
        "**Load & Read dataset**"
      ],
      "metadata": {
        "id": "p03r7G1QzK0X"
      }
    },
    {
      "cell_type": "code",
      "source": [
        "# Load and Read dataset\n",
        "data = pd.read_csv(\"drive/MyDrive/S-K/diabetes_768.csv\")\n",
        "data"
      ],
      "metadata": {
        "id": "VG87sH3Mvl7M",
        "colab": {
          "base_uri": "https://localhost:8080/",
          "height": 424
        },
        "outputId": "1a5216da-310c-4d2b-e7a7-77ec13f1a91e"
      },
      "execution_count": 3,
      "outputs": [
        {
          "output_type": "execute_result",
          "data": {
            "text/plain": [
              "     Pregnancies  Glucose  BloodPressure  SkinThickness  Insulin   BMI  \\\n",
              "0              6      148             72             35        0  33.6   \n",
              "1              1       85             66             29        0  26.6   \n",
              "2              8      183             64              0        0  23.3   \n",
              "3              1       89             66             23       94  28.1   \n",
              "4              0      137             40             35      168  43.1   \n",
              "..           ...      ...            ...            ...      ...   ...   \n",
              "763           10      101             76             48      180  32.9   \n",
              "764            2      122             70             27        0  36.8   \n",
              "765            5      121             72             23      112  26.2   \n",
              "766            1      126             60              0        0  30.1   \n",
              "767            1       93             70             31        0  30.4   \n",
              "\n",
              "     DiabetesPedigreeFunction  Age  Outcome  \n",
              "0                       0.627   50        1  \n",
              "1                       0.351   31        0  \n",
              "2                       0.672   32        1  \n",
              "3                       0.167   21        0  \n",
              "4                       2.288   33        1  \n",
              "..                        ...  ...      ...  \n",
              "763                     0.171   63        0  \n",
              "764                     0.340   27        0  \n",
              "765                     0.245   30        0  \n",
              "766                     0.349   47        1  \n",
              "767                     0.315   23        0  \n",
              "\n",
              "[768 rows x 9 columns]"
            ],
            "text/html": [
              "\n",
              "  <div id=\"df-51e0effc-7bce-4739-bf3a-6dc2be8fe56f\">\n",
              "    <div class=\"colab-df-container\">\n",
              "      <div>\n",
              "<style scoped>\n",
              "    .dataframe tbody tr th:only-of-type {\n",
              "        vertical-align: middle;\n",
              "    }\n",
              "\n",
              "    .dataframe tbody tr th {\n",
              "        vertical-align: top;\n",
              "    }\n",
              "\n",
              "    .dataframe thead th {\n",
              "        text-align: right;\n",
              "    }\n",
              "</style>\n",
              "<table border=\"1\" class=\"dataframe\">\n",
              "  <thead>\n",
              "    <tr style=\"text-align: right;\">\n",
              "      <th></th>\n",
              "      <th>Pregnancies</th>\n",
              "      <th>Glucose</th>\n",
              "      <th>BloodPressure</th>\n",
              "      <th>SkinThickness</th>\n",
              "      <th>Insulin</th>\n",
              "      <th>BMI</th>\n",
              "      <th>DiabetesPedigreeFunction</th>\n",
              "      <th>Age</th>\n",
              "      <th>Outcome</th>\n",
              "    </tr>\n",
              "  </thead>\n",
              "  <tbody>\n",
              "    <tr>\n",
              "      <th>0</th>\n",
              "      <td>6</td>\n",
              "      <td>148</td>\n",
              "      <td>72</td>\n",
              "      <td>35</td>\n",
              "      <td>0</td>\n",
              "      <td>33.6</td>\n",
              "      <td>0.627</td>\n",
              "      <td>50</td>\n",
              "      <td>1</td>\n",
              "    </tr>\n",
              "    <tr>\n",
              "      <th>1</th>\n",
              "      <td>1</td>\n",
              "      <td>85</td>\n",
              "      <td>66</td>\n",
              "      <td>29</td>\n",
              "      <td>0</td>\n",
              "      <td>26.6</td>\n",
              "      <td>0.351</td>\n",
              "      <td>31</td>\n",
              "      <td>0</td>\n",
              "    </tr>\n",
              "    <tr>\n",
              "      <th>2</th>\n",
              "      <td>8</td>\n",
              "      <td>183</td>\n",
              "      <td>64</td>\n",
              "      <td>0</td>\n",
              "      <td>0</td>\n",
              "      <td>23.3</td>\n",
              "      <td>0.672</td>\n",
              "      <td>32</td>\n",
              "      <td>1</td>\n",
              "    </tr>\n",
              "    <tr>\n",
              "      <th>3</th>\n",
              "      <td>1</td>\n",
              "      <td>89</td>\n",
              "      <td>66</td>\n",
              "      <td>23</td>\n",
              "      <td>94</td>\n",
              "      <td>28.1</td>\n",
              "      <td>0.167</td>\n",
              "      <td>21</td>\n",
              "      <td>0</td>\n",
              "    </tr>\n",
              "    <tr>\n",
              "      <th>4</th>\n",
              "      <td>0</td>\n",
              "      <td>137</td>\n",
              "      <td>40</td>\n",
              "      <td>35</td>\n",
              "      <td>168</td>\n",
              "      <td>43.1</td>\n",
              "      <td>2.288</td>\n",
              "      <td>33</td>\n",
              "      <td>1</td>\n",
              "    </tr>\n",
              "    <tr>\n",
              "      <th>...</th>\n",
              "      <td>...</td>\n",
              "      <td>...</td>\n",
              "      <td>...</td>\n",
              "      <td>...</td>\n",
              "      <td>...</td>\n",
              "      <td>...</td>\n",
              "      <td>...</td>\n",
              "      <td>...</td>\n",
              "      <td>...</td>\n",
              "    </tr>\n",
              "    <tr>\n",
              "      <th>763</th>\n",
              "      <td>10</td>\n",
              "      <td>101</td>\n",
              "      <td>76</td>\n",
              "      <td>48</td>\n",
              "      <td>180</td>\n",
              "      <td>32.9</td>\n",
              "      <td>0.171</td>\n",
              "      <td>63</td>\n",
              "      <td>0</td>\n",
              "    </tr>\n",
              "    <tr>\n",
              "      <th>764</th>\n",
              "      <td>2</td>\n",
              "      <td>122</td>\n",
              "      <td>70</td>\n",
              "      <td>27</td>\n",
              "      <td>0</td>\n",
              "      <td>36.8</td>\n",
              "      <td>0.340</td>\n",
              "      <td>27</td>\n",
              "      <td>0</td>\n",
              "    </tr>\n",
              "    <tr>\n",
              "      <th>765</th>\n",
              "      <td>5</td>\n",
              "      <td>121</td>\n",
              "      <td>72</td>\n",
              "      <td>23</td>\n",
              "      <td>112</td>\n",
              "      <td>26.2</td>\n",
              "      <td>0.245</td>\n",
              "      <td>30</td>\n",
              "      <td>0</td>\n",
              "    </tr>\n",
              "    <tr>\n",
              "      <th>766</th>\n",
              "      <td>1</td>\n",
              "      <td>126</td>\n",
              "      <td>60</td>\n",
              "      <td>0</td>\n",
              "      <td>0</td>\n",
              "      <td>30.1</td>\n",
              "      <td>0.349</td>\n",
              "      <td>47</td>\n",
              "      <td>1</td>\n",
              "    </tr>\n",
              "    <tr>\n",
              "      <th>767</th>\n",
              "      <td>1</td>\n",
              "      <td>93</td>\n",
              "      <td>70</td>\n",
              "      <td>31</td>\n",
              "      <td>0</td>\n",
              "      <td>30.4</td>\n",
              "      <td>0.315</td>\n",
              "      <td>23</td>\n",
              "      <td>0</td>\n",
              "    </tr>\n",
              "  </tbody>\n",
              "</table>\n",
              "<p>768 rows × 9 columns</p>\n",
              "</div>\n",
              "      <button class=\"colab-df-convert\" onclick=\"convertToInteractive('df-51e0effc-7bce-4739-bf3a-6dc2be8fe56f')\"\n",
              "              title=\"Convert this dataframe to an interactive table.\"\n",
              "              style=\"display:none;\">\n",
              "        \n",
              "  <svg xmlns=\"http://www.w3.org/2000/svg\" height=\"24px\"viewBox=\"0 0 24 24\"\n",
              "       width=\"24px\">\n",
              "    <path d=\"M0 0h24v24H0V0z\" fill=\"none\"/>\n",
              "    <path d=\"M18.56 5.44l.94 2.06.94-2.06 2.06-.94-2.06-.94-.94-2.06-.94 2.06-2.06.94zm-11 1L8.5 8.5l.94-2.06 2.06-.94-2.06-.94L8.5 2.5l-.94 2.06-2.06.94zm10 10l.94 2.06.94-2.06 2.06-.94-2.06-.94-.94-2.06-.94 2.06-2.06.94z\"/><path d=\"M17.41 7.96l-1.37-1.37c-.4-.4-.92-.59-1.43-.59-.52 0-1.04.2-1.43.59L10.3 9.45l-7.72 7.72c-.78.78-.78 2.05 0 2.83L4 21.41c.39.39.9.59 1.41.59.51 0 1.02-.2 1.41-.59l7.78-7.78 2.81-2.81c.8-.78.8-2.07 0-2.86zM5.41 20L4 18.59l7.72-7.72 1.47 1.35L5.41 20z\"/>\n",
              "  </svg>\n",
              "      </button>\n",
              "      \n",
              "  <style>\n",
              "    .colab-df-container {\n",
              "      display:flex;\n",
              "      flex-wrap:wrap;\n",
              "      gap: 12px;\n",
              "    }\n",
              "\n",
              "    .colab-df-convert {\n",
              "      background-color: #E8F0FE;\n",
              "      border: none;\n",
              "      border-radius: 50%;\n",
              "      cursor: pointer;\n",
              "      display: none;\n",
              "      fill: #1967D2;\n",
              "      height: 32px;\n",
              "      padding: 0 0 0 0;\n",
              "      width: 32px;\n",
              "    }\n",
              "\n",
              "    .colab-df-convert:hover {\n",
              "      background-color: #E2EBFA;\n",
              "      box-shadow: 0px 1px 2px rgba(60, 64, 67, 0.3), 0px 1px 3px 1px rgba(60, 64, 67, 0.15);\n",
              "      fill: #174EA6;\n",
              "    }\n",
              "\n",
              "    [theme=dark] .colab-df-convert {\n",
              "      background-color: #3B4455;\n",
              "      fill: #D2E3FC;\n",
              "    }\n",
              "\n",
              "    [theme=dark] .colab-df-convert:hover {\n",
              "      background-color: #434B5C;\n",
              "      box-shadow: 0px 1px 3px 1px rgba(0, 0, 0, 0.15);\n",
              "      filter: drop-shadow(0px 1px 2px rgba(0, 0, 0, 0.3));\n",
              "      fill: #FFFFFF;\n",
              "    }\n",
              "  </style>\n",
              "\n",
              "      <script>\n",
              "        const buttonEl =\n",
              "          document.querySelector('#df-51e0effc-7bce-4739-bf3a-6dc2be8fe56f button.colab-df-convert');\n",
              "        buttonEl.style.display =\n",
              "          google.colab.kernel.accessAllowed ? 'block' : 'none';\n",
              "\n",
              "        async function convertToInteractive(key) {\n",
              "          const element = document.querySelector('#df-51e0effc-7bce-4739-bf3a-6dc2be8fe56f');\n",
              "          const dataTable =\n",
              "            await google.colab.kernel.invokeFunction('convertToInteractive',\n",
              "                                                     [key], {});\n",
              "          if (!dataTable) return;\n",
              "\n",
              "          const docLinkHtml = 'Like what you see? Visit the ' +\n",
              "            '<a target=\"_blank\" href=https://colab.research.google.com/notebooks/data_table.ipynb>data table notebook</a>'\n",
              "            + ' to learn more about interactive tables.';\n",
              "          element.innerHTML = '';\n",
              "          dataTable['output_type'] = 'display_data';\n",
              "          await google.colab.output.renderOutput(dataTable, element);\n",
              "          const docLink = document.createElement('div');\n",
              "          docLink.innerHTML = docLinkHtml;\n",
              "          element.appendChild(docLink);\n",
              "        }\n",
              "      </script>\n",
              "    </div>\n",
              "  </div>\n",
              "  "
            ]
          },
          "metadata": {},
          "execution_count": 3
        }
      ]
    },
    {
      "cell_type": "markdown",
      "source": [
        "# Exploratory Data Analysis\n",
        "\n",
        "---\n",
        "\n"
      ],
      "metadata": {
        "id": "aC6dfaGGzbcf"
      }
    },
    {
      "cell_type": "markdown",
      "source": [
        "\n",
        "\n",
        "*   Sample Data\n",
        "*   Statistic Descriptive Data\n",
        "*   Visualization Data\n",
        "\n"
      ],
      "metadata": {
        "id": "oGpjlsizzrLY"
      }
    },
    {
      "cell_type": "markdown",
      "source": [
        "**Sample Data**"
      ],
      "metadata": {
        "id": "9o6B7K0KzyIg"
      }
    },
    {
      "cell_type": "code",
      "source": [
        "# top data\n",
        "\n",
        "data.head()"
      ],
      "metadata": {
        "colab": {
          "base_uri": "https://localhost:8080/",
          "height": 206
        },
        "id": "CMztQYSRziWg",
        "outputId": "f9119b7f-9ebe-4d13-9e83-c92b5b025cf3"
      },
      "execution_count": 4,
      "outputs": [
        {
          "output_type": "execute_result",
          "data": {
            "text/plain": [
              "   Pregnancies  Glucose  BloodPressure  SkinThickness  Insulin   BMI  \\\n",
              "0            6      148             72             35        0  33.6   \n",
              "1            1       85             66             29        0  26.6   \n",
              "2            8      183             64              0        0  23.3   \n",
              "3            1       89             66             23       94  28.1   \n",
              "4            0      137             40             35      168  43.1   \n",
              "\n",
              "   DiabetesPedigreeFunction  Age  Outcome  \n",
              "0                     0.627   50        1  \n",
              "1                     0.351   31        0  \n",
              "2                     0.672   32        1  \n",
              "3                     0.167   21        0  \n",
              "4                     2.288   33        1  "
            ],
            "text/html": [
              "\n",
              "  <div id=\"df-23fb7927-a8fe-4fa3-87b5-31e8fb28ecad\">\n",
              "    <div class=\"colab-df-container\">\n",
              "      <div>\n",
              "<style scoped>\n",
              "    .dataframe tbody tr th:only-of-type {\n",
              "        vertical-align: middle;\n",
              "    }\n",
              "\n",
              "    .dataframe tbody tr th {\n",
              "        vertical-align: top;\n",
              "    }\n",
              "\n",
              "    .dataframe thead th {\n",
              "        text-align: right;\n",
              "    }\n",
              "</style>\n",
              "<table border=\"1\" class=\"dataframe\">\n",
              "  <thead>\n",
              "    <tr style=\"text-align: right;\">\n",
              "      <th></th>\n",
              "      <th>Pregnancies</th>\n",
              "      <th>Glucose</th>\n",
              "      <th>BloodPressure</th>\n",
              "      <th>SkinThickness</th>\n",
              "      <th>Insulin</th>\n",
              "      <th>BMI</th>\n",
              "      <th>DiabetesPedigreeFunction</th>\n",
              "      <th>Age</th>\n",
              "      <th>Outcome</th>\n",
              "    </tr>\n",
              "  </thead>\n",
              "  <tbody>\n",
              "    <tr>\n",
              "      <th>0</th>\n",
              "      <td>6</td>\n",
              "      <td>148</td>\n",
              "      <td>72</td>\n",
              "      <td>35</td>\n",
              "      <td>0</td>\n",
              "      <td>33.6</td>\n",
              "      <td>0.627</td>\n",
              "      <td>50</td>\n",
              "      <td>1</td>\n",
              "    </tr>\n",
              "    <tr>\n",
              "      <th>1</th>\n",
              "      <td>1</td>\n",
              "      <td>85</td>\n",
              "      <td>66</td>\n",
              "      <td>29</td>\n",
              "      <td>0</td>\n",
              "      <td>26.6</td>\n",
              "      <td>0.351</td>\n",
              "      <td>31</td>\n",
              "      <td>0</td>\n",
              "    </tr>\n",
              "    <tr>\n",
              "      <th>2</th>\n",
              "      <td>8</td>\n",
              "      <td>183</td>\n",
              "      <td>64</td>\n",
              "      <td>0</td>\n",
              "      <td>0</td>\n",
              "      <td>23.3</td>\n",
              "      <td>0.672</td>\n",
              "      <td>32</td>\n",
              "      <td>1</td>\n",
              "    </tr>\n",
              "    <tr>\n",
              "      <th>3</th>\n",
              "      <td>1</td>\n",
              "      <td>89</td>\n",
              "      <td>66</td>\n",
              "      <td>23</td>\n",
              "      <td>94</td>\n",
              "      <td>28.1</td>\n",
              "      <td>0.167</td>\n",
              "      <td>21</td>\n",
              "      <td>0</td>\n",
              "    </tr>\n",
              "    <tr>\n",
              "      <th>4</th>\n",
              "      <td>0</td>\n",
              "      <td>137</td>\n",
              "      <td>40</td>\n",
              "      <td>35</td>\n",
              "      <td>168</td>\n",
              "      <td>43.1</td>\n",
              "      <td>2.288</td>\n",
              "      <td>33</td>\n",
              "      <td>1</td>\n",
              "    </tr>\n",
              "  </tbody>\n",
              "</table>\n",
              "</div>\n",
              "      <button class=\"colab-df-convert\" onclick=\"convertToInteractive('df-23fb7927-a8fe-4fa3-87b5-31e8fb28ecad')\"\n",
              "              title=\"Convert this dataframe to an interactive table.\"\n",
              "              style=\"display:none;\">\n",
              "        \n",
              "  <svg xmlns=\"http://www.w3.org/2000/svg\" height=\"24px\"viewBox=\"0 0 24 24\"\n",
              "       width=\"24px\">\n",
              "    <path d=\"M0 0h24v24H0V0z\" fill=\"none\"/>\n",
              "    <path d=\"M18.56 5.44l.94 2.06.94-2.06 2.06-.94-2.06-.94-.94-2.06-.94 2.06-2.06.94zm-11 1L8.5 8.5l.94-2.06 2.06-.94-2.06-.94L8.5 2.5l-.94 2.06-2.06.94zm10 10l.94 2.06.94-2.06 2.06-.94-2.06-.94-.94-2.06-.94 2.06-2.06.94z\"/><path d=\"M17.41 7.96l-1.37-1.37c-.4-.4-.92-.59-1.43-.59-.52 0-1.04.2-1.43.59L10.3 9.45l-7.72 7.72c-.78.78-.78 2.05 0 2.83L4 21.41c.39.39.9.59 1.41.59.51 0 1.02-.2 1.41-.59l7.78-7.78 2.81-2.81c.8-.78.8-2.07 0-2.86zM5.41 20L4 18.59l7.72-7.72 1.47 1.35L5.41 20z\"/>\n",
              "  </svg>\n",
              "      </button>\n",
              "      \n",
              "  <style>\n",
              "    .colab-df-container {\n",
              "      display:flex;\n",
              "      flex-wrap:wrap;\n",
              "      gap: 12px;\n",
              "    }\n",
              "\n",
              "    .colab-df-convert {\n",
              "      background-color: #E8F0FE;\n",
              "      border: none;\n",
              "      border-radius: 50%;\n",
              "      cursor: pointer;\n",
              "      display: none;\n",
              "      fill: #1967D2;\n",
              "      height: 32px;\n",
              "      padding: 0 0 0 0;\n",
              "      width: 32px;\n",
              "    }\n",
              "\n",
              "    .colab-df-convert:hover {\n",
              "      background-color: #E2EBFA;\n",
              "      box-shadow: 0px 1px 2px rgba(60, 64, 67, 0.3), 0px 1px 3px 1px rgba(60, 64, 67, 0.15);\n",
              "      fill: #174EA6;\n",
              "    }\n",
              "\n",
              "    [theme=dark] .colab-df-convert {\n",
              "      background-color: #3B4455;\n",
              "      fill: #D2E3FC;\n",
              "    }\n",
              "\n",
              "    [theme=dark] .colab-df-convert:hover {\n",
              "      background-color: #434B5C;\n",
              "      box-shadow: 0px 1px 3px 1px rgba(0, 0, 0, 0.15);\n",
              "      filter: drop-shadow(0px 1px 2px rgba(0, 0, 0, 0.3));\n",
              "      fill: #FFFFFF;\n",
              "    }\n",
              "  </style>\n",
              "\n",
              "      <script>\n",
              "        const buttonEl =\n",
              "          document.querySelector('#df-23fb7927-a8fe-4fa3-87b5-31e8fb28ecad button.colab-df-convert');\n",
              "        buttonEl.style.display =\n",
              "          google.colab.kernel.accessAllowed ? 'block' : 'none';\n",
              "\n",
              "        async function convertToInteractive(key) {\n",
              "          const element = document.querySelector('#df-23fb7927-a8fe-4fa3-87b5-31e8fb28ecad');\n",
              "          const dataTable =\n",
              "            await google.colab.kernel.invokeFunction('convertToInteractive',\n",
              "                                                     [key], {});\n",
              "          if (!dataTable) return;\n",
              "\n",
              "          const docLinkHtml = 'Like what you see? Visit the ' +\n",
              "            '<a target=\"_blank\" href=https://colab.research.google.com/notebooks/data_table.ipynb>data table notebook</a>'\n",
              "            + ' to learn more about interactive tables.';\n",
              "          element.innerHTML = '';\n",
              "          dataTable['output_type'] = 'display_data';\n",
              "          await google.colab.output.renderOutput(dataTable, element);\n",
              "          const docLink = document.createElement('div');\n",
              "          docLink.innerHTML = docLinkHtml;\n",
              "          element.appendChild(docLink);\n",
              "        }\n",
              "      </script>\n",
              "    </div>\n",
              "  </div>\n",
              "  "
            ]
          },
          "metadata": {},
          "execution_count": 4
        }
      ]
    },
    {
      "cell_type": "code",
      "source": [
        "# bottom data\n",
        "\n",
        "data.tail()"
      ],
      "metadata": {
        "colab": {
          "base_uri": "https://localhost:8080/",
          "height": 206
        },
        "id": "5samJs7R28qK",
        "outputId": "aa56566b-cff7-43a5-c8ab-bac1b9ce550c"
      },
      "execution_count": 5,
      "outputs": [
        {
          "output_type": "execute_result",
          "data": {
            "text/plain": [
              "     Pregnancies  Glucose  BloodPressure  SkinThickness  Insulin   BMI  \\\n",
              "763           10      101             76             48      180  32.9   \n",
              "764            2      122             70             27        0  36.8   \n",
              "765            5      121             72             23      112  26.2   \n",
              "766            1      126             60              0        0  30.1   \n",
              "767            1       93             70             31        0  30.4   \n",
              "\n",
              "     DiabetesPedigreeFunction  Age  Outcome  \n",
              "763                     0.171   63        0  \n",
              "764                     0.340   27        0  \n",
              "765                     0.245   30        0  \n",
              "766                     0.349   47        1  \n",
              "767                     0.315   23        0  "
            ],
            "text/html": [
              "\n",
              "  <div id=\"df-480041e1-3c82-4af4-8452-205102e342d4\">\n",
              "    <div class=\"colab-df-container\">\n",
              "      <div>\n",
              "<style scoped>\n",
              "    .dataframe tbody tr th:only-of-type {\n",
              "        vertical-align: middle;\n",
              "    }\n",
              "\n",
              "    .dataframe tbody tr th {\n",
              "        vertical-align: top;\n",
              "    }\n",
              "\n",
              "    .dataframe thead th {\n",
              "        text-align: right;\n",
              "    }\n",
              "</style>\n",
              "<table border=\"1\" class=\"dataframe\">\n",
              "  <thead>\n",
              "    <tr style=\"text-align: right;\">\n",
              "      <th></th>\n",
              "      <th>Pregnancies</th>\n",
              "      <th>Glucose</th>\n",
              "      <th>BloodPressure</th>\n",
              "      <th>SkinThickness</th>\n",
              "      <th>Insulin</th>\n",
              "      <th>BMI</th>\n",
              "      <th>DiabetesPedigreeFunction</th>\n",
              "      <th>Age</th>\n",
              "      <th>Outcome</th>\n",
              "    </tr>\n",
              "  </thead>\n",
              "  <tbody>\n",
              "    <tr>\n",
              "      <th>763</th>\n",
              "      <td>10</td>\n",
              "      <td>101</td>\n",
              "      <td>76</td>\n",
              "      <td>48</td>\n",
              "      <td>180</td>\n",
              "      <td>32.9</td>\n",
              "      <td>0.171</td>\n",
              "      <td>63</td>\n",
              "      <td>0</td>\n",
              "    </tr>\n",
              "    <tr>\n",
              "      <th>764</th>\n",
              "      <td>2</td>\n",
              "      <td>122</td>\n",
              "      <td>70</td>\n",
              "      <td>27</td>\n",
              "      <td>0</td>\n",
              "      <td>36.8</td>\n",
              "      <td>0.340</td>\n",
              "      <td>27</td>\n",
              "      <td>0</td>\n",
              "    </tr>\n",
              "    <tr>\n",
              "      <th>765</th>\n",
              "      <td>5</td>\n",
              "      <td>121</td>\n",
              "      <td>72</td>\n",
              "      <td>23</td>\n",
              "      <td>112</td>\n",
              "      <td>26.2</td>\n",
              "      <td>0.245</td>\n",
              "      <td>30</td>\n",
              "      <td>0</td>\n",
              "    </tr>\n",
              "    <tr>\n",
              "      <th>766</th>\n",
              "      <td>1</td>\n",
              "      <td>126</td>\n",
              "      <td>60</td>\n",
              "      <td>0</td>\n",
              "      <td>0</td>\n",
              "      <td>30.1</td>\n",
              "      <td>0.349</td>\n",
              "      <td>47</td>\n",
              "      <td>1</td>\n",
              "    </tr>\n",
              "    <tr>\n",
              "      <th>767</th>\n",
              "      <td>1</td>\n",
              "      <td>93</td>\n",
              "      <td>70</td>\n",
              "      <td>31</td>\n",
              "      <td>0</td>\n",
              "      <td>30.4</td>\n",
              "      <td>0.315</td>\n",
              "      <td>23</td>\n",
              "      <td>0</td>\n",
              "    </tr>\n",
              "  </tbody>\n",
              "</table>\n",
              "</div>\n",
              "      <button class=\"colab-df-convert\" onclick=\"convertToInteractive('df-480041e1-3c82-4af4-8452-205102e342d4')\"\n",
              "              title=\"Convert this dataframe to an interactive table.\"\n",
              "              style=\"display:none;\">\n",
              "        \n",
              "  <svg xmlns=\"http://www.w3.org/2000/svg\" height=\"24px\"viewBox=\"0 0 24 24\"\n",
              "       width=\"24px\">\n",
              "    <path d=\"M0 0h24v24H0V0z\" fill=\"none\"/>\n",
              "    <path d=\"M18.56 5.44l.94 2.06.94-2.06 2.06-.94-2.06-.94-.94-2.06-.94 2.06-2.06.94zm-11 1L8.5 8.5l.94-2.06 2.06-.94-2.06-.94L8.5 2.5l-.94 2.06-2.06.94zm10 10l.94 2.06.94-2.06 2.06-.94-2.06-.94-.94-2.06-.94 2.06-2.06.94z\"/><path d=\"M17.41 7.96l-1.37-1.37c-.4-.4-.92-.59-1.43-.59-.52 0-1.04.2-1.43.59L10.3 9.45l-7.72 7.72c-.78.78-.78 2.05 0 2.83L4 21.41c.39.39.9.59 1.41.59.51 0 1.02-.2 1.41-.59l7.78-7.78 2.81-2.81c.8-.78.8-2.07 0-2.86zM5.41 20L4 18.59l7.72-7.72 1.47 1.35L5.41 20z\"/>\n",
              "  </svg>\n",
              "      </button>\n",
              "      \n",
              "  <style>\n",
              "    .colab-df-container {\n",
              "      display:flex;\n",
              "      flex-wrap:wrap;\n",
              "      gap: 12px;\n",
              "    }\n",
              "\n",
              "    .colab-df-convert {\n",
              "      background-color: #E8F0FE;\n",
              "      border: none;\n",
              "      border-radius: 50%;\n",
              "      cursor: pointer;\n",
              "      display: none;\n",
              "      fill: #1967D2;\n",
              "      height: 32px;\n",
              "      padding: 0 0 0 0;\n",
              "      width: 32px;\n",
              "    }\n",
              "\n",
              "    .colab-df-convert:hover {\n",
              "      background-color: #E2EBFA;\n",
              "      box-shadow: 0px 1px 2px rgba(60, 64, 67, 0.3), 0px 1px 3px 1px rgba(60, 64, 67, 0.15);\n",
              "      fill: #174EA6;\n",
              "    }\n",
              "\n",
              "    [theme=dark] .colab-df-convert {\n",
              "      background-color: #3B4455;\n",
              "      fill: #D2E3FC;\n",
              "    }\n",
              "\n",
              "    [theme=dark] .colab-df-convert:hover {\n",
              "      background-color: #434B5C;\n",
              "      box-shadow: 0px 1px 3px 1px rgba(0, 0, 0, 0.15);\n",
              "      filter: drop-shadow(0px 1px 2px rgba(0, 0, 0, 0.3));\n",
              "      fill: #FFFFFF;\n",
              "    }\n",
              "  </style>\n",
              "\n",
              "      <script>\n",
              "        const buttonEl =\n",
              "          document.querySelector('#df-480041e1-3c82-4af4-8452-205102e342d4 button.colab-df-convert');\n",
              "        buttonEl.style.display =\n",
              "          google.colab.kernel.accessAllowed ? 'block' : 'none';\n",
              "\n",
              "        async function convertToInteractive(key) {\n",
              "          const element = document.querySelector('#df-480041e1-3c82-4af4-8452-205102e342d4');\n",
              "          const dataTable =\n",
              "            await google.colab.kernel.invokeFunction('convertToInteractive',\n",
              "                                                     [key], {});\n",
              "          if (!dataTable) return;\n",
              "\n",
              "          const docLinkHtml = 'Like what you see? Visit the ' +\n",
              "            '<a target=\"_blank\" href=https://colab.research.google.com/notebooks/data_table.ipynb>data table notebook</a>'\n",
              "            + ' to learn more about interactive tables.';\n",
              "          element.innerHTML = '';\n",
              "          dataTable['output_type'] = 'display_data';\n",
              "          await google.colab.output.renderOutput(dataTable, element);\n",
              "          const docLink = document.createElement('div');\n",
              "          docLink.innerHTML = docLinkHtml;\n",
              "          element.appendChild(docLink);\n",
              "        }\n",
              "      </script>\n",
              "    </div>\n",
              "  </div>\n",
              "  "
            ]
          },
          "metadata": {},
          "execution_count": 5
        }
      ]
    },
    {
      "cell_type": "code",
      "source": [
        "# size data\n",
        "# (rows, columns)\n",
        "\n",
        "data.shape"
      ],
      "metadata": {
        "colab": {
          "base_uri": "https://localhost:8080/"
        },
        "id": "bk-IcvN22_VY",
        "outputId": "0bb4838c-a18f-4097-865b-26a5e1124652"
      },
      "execution_count": 6,
      "outputs": [
        {
          "output_type": "execute_result",
          "data": {
            "text/plain": [
              "(768, 9)"
            ]
          },
          "metadata": {},
          "execution_count": 6
        }
      ]
    },
    {
      "cell_type": "markdown",
      "source": [
        "**Statistic Descriptive Data**"
      ],
      "metadata": {
        "id": "dqADKczdz1_P"
      }
    },
    {
      "cell_type": "code",
      "source": [
        "# Descriptive analysis\n",
        "# helps us to understand how data has been spread across the table.\n",
        "# count :- the number of NoN-empty rows in a feature.\n",
        "# mean :- mean value of that feature.\n",
        "# std :- Standard Deviation Value of that feature.\n",
        "# min :- minimum value of that feature.\n",
        "# max :- maximum value of that feature.\n",
        "# 25%, 50%, and 75% are the percentile/quartile of each features.\n",
        "\n",
        "data.describe()"
      ],
      "metadata": {
        "colab": {
          "base_uri": "https://localhost:8080/",
          "height": 364
        },
        "id": "QpNyeWy8z48o",
        "outputId": "e403c32a-2b4c-4b9e-890a-d04cd6075182"
      },
      "execution_count": 7,
      "outputs": [
        {
          "output_type": "execute_result",
          "data": {
            "text/plain": [
              "       Pregnancies     Glucose  BloodPressure  SkinThickness     Insulin  \\\n",
              "count   768.000000  768.000000     768.000000     768.000000  768.000000   \n",
              "mean      3.845052  120.894531      69.105469      20.536458   79.799479   \n",
              "std       3.369578   31.972618      19.355807      15.952218  115.244002   \n",
              "min       0.000000    0.000000       0.000000       0.000000    0.000000   \n",
              "25%       1.000000   99.000000      62.000000       0.000000    0.000000   \n",
              "50%       3.000000  117.000000      72.000000      23.000000   30.500000   \n",
              "75%       6.000000  140.250000      80.000000      32.000000  127.250000   \n",
              "max      17.000000  199.000000     122.000000      99.000000  846.000000   \n",
              "\n",
              "              BMI  DiabetesPedigreeFunction         Age     Outcome  \n",
              "count  768.000000                768.000000  768.000000  768.000000  \n",
              "mean    31.992578                  0.471876   33.240885    0.348958  \n",
              "std      7.884160                  0.331329   11.760232    0.476951  \n",
              "min      0.000000                  0.078000   21.000000    0.000000  \n",
              "25%     27.300000                  0.243750   24.000000    0.000000  \n",
              "50%     32.000000                  0.372500   29.000000    0.000000  \n",
              "75%     36.600000                  0.626250   41.000000    1.000000  \n",
              "max     67.100000                  2.420000   81.000000    1.000000  "
            ],
            "text/html": [
              "\n",
              "  <div id=\"df-269d933d-ce3f-427d-8b27-d75630244933\">\n",
              "    <div class=\"colab-df-container\">\n",
              "      <div>\n",
              "<style scoped>\n",
              "    .dataframe tbody tr th:only-of-type {\n",
              "        vertical-align: middle;\n",
              "    }\n",
              "\n",
              "    .dataframe tbody tr th {\n",
              "        vertical-align: top;\n",
              "    }\n",
              "\n",
              "    .dataframe thead th {\n",
              "        text-align: right;\n",
              "    }\n",
              "</style>\n",
              "<table border=\"1\" class=\"dataframe\">\n",
              "  <thead>\n",
              "    <tr style=\"text-align: right;\">\n",
              "      <th></th>\n",
              "      <th>Pregnancies</th>\n",
              "      <th>Glucose</th>\n",
              "      <th>BloodPressure</th>\n",
              "      <th>SkinThickness</th>\n",
              "      <th>Insulin</th>\n",
              "      <th>BMI</th>\n",
              "      <th>DiabetesPedigreeFunction</th>\n",
              "      <th>Age</th>\n",
              "      <th>Outcome</th>\n",
              "    </tr>\n",
              "  </thead>\n",
              "  <tbody>\n",
              "    <tr>\n",
              "      <th>count</th>\n",
              "      <td>768.000000</td>\n",
              "      <td>768.000000</td>\n",
              "      <td>768.000000</td>\n",
              "      <td>768.000000</td>\n",
              "      <td>768.000000</td>\n",
              "      <td>768.000000</td>\n",
              "      <td>768.000000</td>\n",
              "      <td>768.000000</td>\n",
              "      <td>768.000000</td>\n",
              "    </tr>\n",
              "    <tr>\n",
              "      <th>mean</th>\n",
              "      <td>3.845052</td>\n",
              "      <td>120.894531</td>\n",
              "      <td>69.105469</td>\n",
              "      <td>20.536458</td>\n",
              "      <td>79.799479</td>\n",
              "      <td>31.992578</td>\n",
              "      <td>0.471876</td>\n",
              "      <td>33.240885</td>\n",
              "      <td>0.348958</td>\n",
              "    </tr>\n",
              "    <tr>\n",
              "      <th>std</th>\n",
              "      <td>3.369578</td>\n",
              "      <td>31.972618</td>\n",
              "      <td>19.355807</td>\n",
              "      <td>15.952218</td>\n",
              "      <td>115.244002</td>\n",
              "      <td>7.884160</td>\n",
              "      <td>0.331329</td>\n",
              "      <td>11.760232</td>\n",
              "      <td>0.476951</td>\n",
              "    </tr>\n",
              "    <tr>\n",
              "      <th>min</th>\n",
              "      <td>0.000000</td>\n",
              "      <td>0.000000</td>\n",
              "      <td>0.000000</td>\n",
              "      <td>0.000000</td>\n",
              "      <td>0.000000</td>\n",
              "      <td>0.000000</td>\n",
              "      <td>0.078000</td>\n",
              "      <td>21.000000</td>\n",
              "      <td>0.000000</td>\n",
              "    </tr>\n",
              "    <tr>\n",
              "      <th>25%</th>\n",
              "      <td>1.000000</td>\n",
              "      <td>99.000000</td>\n",
              "      <td>62.000000</td>\n",
              "      <td>0.000000</td>\n",
              "      <td>0.000000</td>\n",
              "      <td>27.300000</td>\n",
              "      <td>0.243750</td>\n",
              "      <td>24.000000</td>\n",
              "      <td>0.000000</td>\n",
              "    </tr>\n",
              "    <tr>\n",
              "      <th>50%</th>\n",
              "      <td>3.000000</td>\n",
              "      <td>117.000000</td>\n",
              "      <td>72.000000</td>\n",
              "      <td>23.000000</td>\n",
              "      <td>30.500000</td>\n",
              "      <td>32.000000</td>\n",
              "      <td>0.372500</td>\n",
              "      <td>29.000000</td>\n",
              "      <td>0.000000</td>\n",
              "    </tr>\n",
              "    <tr>\n",
              "      <th>75%</th>\n",
              "      <td>6.000000</td>\n",
              "      <td>140.250000</td>\n",
              "      <td>80.000000</td>\n",
              "      <td>32.000000</td>\n",
              "      <td>127.250000</td>\n",
              "      <td>36.600000</td>\n",
              "      <td>0.626250</td>\n",
              "      <td>41.000000</td>\n",
              "      <td>1.000000</td>\n",
              "    </tr>\n",
              "    <tr>\n",
              "      <th>max</th>\n",
              "      <td>17.000000</td>\n",
              "      <td>199.000000</td>\n",
              "      <td>122.000000</td>\n",
              "      <td>99.000000</td>\n",
              "      <td>846.000000</td>\n",
              "      <td>67.100000</td>\n",
              "      <td>2.420000</td>\n",
              "      <td>81.000000</td>\n",
              "      <td>1.000000</td>\n",
              "    </tr>\n",
              "  </tbody>\n",
              "</table>\n",
              "</div>\n",
              "      <button class=\"colab-df-convert\" onclick=\"convertToInteractive('df-269d933d-ce3f-427d-8b27-d75630244933')\"\n",
              "              title=\"Convert this dataframe to an interactive table.\"\n",
              "              style=\"display:none;\">\n",
              "        \n",
              "  <svg xmlns=\"http://www.w3.org/2000/svg\" height=\"24px\"viewBox=\"0 0 24 24\"\n",
              "       width=\"24px\">\n",
              "    <path d=\"M0 0h24v24H0V0z\" fill=\"none\"/>\n",
              "    <path d=\"M18.56 5.44l.94 2.06.94-2.06 2.06-.94-2.06-.94-.94-2.06-.94 2.06-2.06.94zm-11 1L8.5 8.5l.94-2.06 2.06-.94-2.06-.94L8.5 2.5l-.94 2.06-2.06.94zm10 10l.94 2.06.94-2.06 2.06-.94-2.06-.94-.94-2.06-.94 2.06-2.06.94z\"/><path d=\"M17.41 7.96l-1.37-1.37c-.4-.4-.92-.59-1.43-.59-.52 0-1.04.2-1.43.59L10.3 9.45l-7.72 7.72c-.78.78-.78 2.05 0 2.83L4 21.41c.39.39.9.59 1.41.59.51 0 1.02-.2 1.41-.59l7.78-7.78 2.81-2.81c.8-.78.8-2.07 0-2.86zM5.41 20L4 18.59l7.72-7.72 1.47 1.35L5.41 20z\"/>\n",
              "  </svg>\n",
              "      </button>\n",
              "      \n",
              "  <style>\n",
              "    .colab-df-container {\n",
              "      display:flex;\n",
              "      flex-wrap:wrap;\n",
              "      gap: 12px;\n",
              "    }\n",
              "\n",
              "    .colab-df-convert {\n",
              "      background-color: #E8F0FE;\n",
              "      border: none;\n",
              "      border-radius: 50%;\n",
              "      cursor: pointer;\n",
              "      display: none;\n",
              "      fill: #1967D2;\n",
              "      height: 32px;\n",
              "      padding: 0 0 0 0;\n",
              "      width: 32px;\n",
              "    }\n",
              "\n",
              "    .colab-df-convert:hover {\n",
              "      background-color: #E2EBFA;\n",
              "      box-shadow: 0px 1px 2px rgba(60, 64, 67, 0.3), 0px 1px 3px 1px rgba(60, 64, 67, 0.15);\n",
              "      fill: #174EA6;\n",
              "    }\n",
              "\n",
              "    [theme=dark] .colab-df-convert {\n",
              "      background-color: #3B4455;\n",
              "      fill: #D2E3FC;\n",
              "    }\n",
              "\n",
              "    [theme=dark] .colab-df-convert:hover {\n",
              "      background-color: #434B5C;\n",
              "      box-shadow: 0px 1px 3px 1px rgba(0, 0, 0, 0.15);\n",
              "      filter: drop-shadow(0px 1px 2px rgba(0, 0, 0, 0.3));\n",
              "      fill: #FFFFFF;\n",
              "    }\n",
              "  </style>\n",
              "\n",
              "      <script>\n",
              "        const buttonEl =\n",
              "          document.querySelector('#df-269d933d-ce3f-427d-8b27-d75630244933 button.colab-df-convert');\n",
              "        buttonEl.style.display =\n",
              "          google.colab.kernel.accessAllowed ? 'block' : 'none';\n",
              "\n",
              "        async function convertToInteractive(key) {\n",
              "          const element = document.querySelector('#df-269d933d-ce3f-427d-8b27-d75630244933');\n",
              "          const dataTable =\n",
              "            await google.colab.kernel.invokeFunction('convertToInteractive',\n",
              "                                                     [key], {});\n",
              "          if (!dataTable) return;\n",
              "\n",
              "          const docLinkHtml = 'Like what you see? Visit the ' +\n",
              "            '<a target=\"_blank\" href=https://colab.research.google.com/notebooks/data_table.ipynb>data table notebook</a>'\n",
              "            + ' to learn more about interactive tables.';\n",
              "          element.innerHTML = '';\n",
              "          dataTable['output_type'] = 'display_data';\n",
              "          await google.colab.output.renderOutput(dataTable, element);\n",
              "          const docLink = document.createElement('div');\n",
              "          docLink.innerHTML = docLinkHtml;\n",
              "          element.appendChild(docLink);\n",
              "        }\n",
              "      </script>\n",
              "    </div>\n",
              "  </div>\n",
              "  "
            ]
          },
          "metadata": {},
          "execution_count": 7
        }
      ]
    },
    {
      "cell_type": "code",
      "source": [
        "data.describe().T"
      ],
      "metadata": {
        "colab": {
          "base_uri": "https://localhost:8080/",
          "height": 332
        },
        "id": "nomNiNU34Prz",
        "outputId": "5bcff9a5-faf0-4b83-9133-7aebd67e58de"
      },
      "execution_count": 8,
      "outputs": [
        {
          "output_type": "execute_result",
          "data": {
            "text/plain": [
              "                          count        mean         std     min       25%  \\\n",
              "Pregnancies               768.0    3.845052    3.369578   0.000   1.00000   \n",
              "Glucose                   768.0  120.894531   31.972618   0.000  99.00000   \n",
              "BloodPressure             768.0   69.105469   19.355807   0.000  62.00000   \n",
              "SkinThickness             768.0   20.536458   15.952218   0.000   0.00000   \n",
              "Insulin                   768.0   79.799479  115.244002   0.000   0.00000   \n",
              "BMI                       768.0   31.992578    7.884160   0.000  27.30000   \n",
              "DiabetesPedigreeFunction  768.0    0.471876    0.331329   0.078   0.24375   \n",
              "Age                       768.0   33.240885   11.760232  21.000  24.00000   \n",
              "Outcome                   768.0    0.348958    0.476951   0.000   0.00000   \n",
              "\n",
              "                               50%        75%     max  \n",
              "Pregnancies                 3.0000    6.00000   17.00  \n",
              "Glucose                   117.0000  140.25000  199.00  \n",
              "BloodPressure              72.0000   80.00000  122.00  \n",
              "SkinThickness              23.0000   32.00000   99.00  \n",
              "Insulin                    30.5000  127.25000  846.00  \n",
              "BMI                        32.0000   36.60000   67.10  \n",
              "DiabetesPedigreeFunction    0.3725    0.62625    2.42  \n",
              "Age                        29.0000   41.00000   81.00  \n",
              "Outcome                     0.0000    1.00000    1.00  "
            ],
            "text/html": [
              "\n",
              "  <div id=\"df-51e81544-50ac-4bec-a298-eab2b3cf8f8f\">\n",
              "    <div class=\"colab-df-container\">\n",
              "      <div>\n",
              "<style scoped>\n",
              "    .dataframe tbody tr th:only-of-type {\n",
              "        vertical-align: middle;\n",
              "    }\n",
              "\n",
              "    .dataframe tbody tr th {\n",
              "        vertical-align: top;\n",
              "    }\n",
              "\n",
              "    .dataframe thead th {\n",
              "        text-align: right;\n",
              "    }\n",
              "</style>\n",
              "<table border=\"1\" class=\"dataframe\">\n",
              "  <thead>\n",
              "    <tr style=\"text-align: right;\">\n",
              "      <th></th>\n",
              "      <th>count</th>\n",
              "      <th>mean</th>\n",
              "      <th>std</th>\n",
              "      <th>min</th>\n",
              "      <th>25%</th>\n",
              "      <th>50%</th>\n",
              "      <th>75%</th>\n",
              "      <th>max</th>\n",
              "    </tr>\n",
              "  </thead>\n",
              "  <tbody>\n",
              "    <tr>\n",
              "      <th>Pregnancies</th>\n",
              "      <td>768.0</td>\n",
              "      <td>3.845052</td>\n",
              "      <td>3.369578</td>\n",
              "      <td>0.000</td>\n",
              "      <td>1.00000</td>\n",
              "      <td>3.0000</td>\n",
              "      <td>6.00000</td>\n",
              "      <td>17.00</td>\n",
              "    </tr>\n",
              "    <tr>\n",
              "      <th>Glucose</th>\n",
              "      <td>768.0</td>\n",
              "      <td>120.894531</td>\n",
              "      <td>31.972618</td>\n",
              "      <td>0.000</td>\n",
              "      <td>99.00000</td>\n",
              "      <td>117.0000</td>\n",
              "      <td>140.25000</td>\n",
              "      <td>199.00</td>\n",
              "    </tr>\n",
              "    <tr>\n",
              "      <th>BloodPressure</th>\n",
              "      <td>768.0</td>\n",
              "      <td>69.105469</td>\n",
              "      <td>19.355807</td>\n",
              "      <td>0.000</td>\n",
              "      <td>62.00000</td>\n",
              "      <td>72.0000</td>\n",
              "      <td>80.00000</td>\n",
              "      <td>122.00</td>\n",
              "    </tr>\n",
              "    <tr>\n",
              "      <th>SkinThickness</th>\n",
              "      <td>768.0</td>\n",
              "      <td>20.536458</td>\n",
              "      <td>15.952218</td>\n",
              "      <td>0.000</td>\n",
              "      <td>0.00000</td>\n",
              "      <td>23.0000</td>\n",
              "      <td>32.00000</td>\n",
              "      <td>99.00</td>\n",
              "    </tr>\n",
              "    <tr>\n",
              "      <th>Insulin</th>\n",
              "      <td>768.0</td>\n",
              "      <td>79.799479</td>\n",
              "      <td>115.244002</td>\n",
              "      <td>0.000</td>\n",
              "      <td>0.00000</td>\n",
              "      <td>30.5000</td>\n",
              "      <td>127.25000</td>\n",
              "      <td>846.00</td>\n",
              "    </tr>\n",
              "    <tr>\n",
              "      <th>BMI</th>\n",
              "      <td>768.0</td>\n",
              "      <td>31.992578</td>\n",
              "      <td>7.884160</td>\n",
              "      <td>0.000</td>\n",
              "      <td>27.30000</td>\n",
              "      <td>32.0000</td>\n",
              "      <td>36.60000</td>\n",
              "      <td>67.10</td>\n",
              "    </tr>\n",
              "    <tr>\n",
              "      <th>DiabetesPedigreeFunction</th>\n",
              "      <td>768.0</td>\n",
              "      <td>0.471876</td>\n",
              "      <td>0.331329</td>\n",
              "      <td>0.078</td>\n",
              "      <td>0.24375</td>\n",
              "      <td>0.3725</td>\n",
              "      <td>0.62625</td>\n",
              "      <td>2.42</td>\n",
              "    </tr>\n",
              "    <tr>\n",
              "      <th>Age</th>\n",
              "      <td>768.0</td>\n",
              "      <td>33.240885</td>\n",
              "      <td>11.760232</td>\n",
              "      <td>21.000</td>\n",
              "      <td>24.00000</td>\n",
              "      <td>29.0000</td>\n",
              "      <td>41.00000</td>\n",
              "      <td>81.00</td>\n",
              "    </tr>\n",
              "    <tr>\n",
              "      <th>Outcome</th>\n",
              "      <td>768.0</td>\n",
              "      <td>0.348958</td>\n",
              "      <td>0.476951</td>\n",
              "      <td>0.000</td>\n",
              "      <td>0.00000</td>\n",
              "      <td>0.0000</td>\n",
              "      <td>1.00000</td>\n",
              "      <td>1.00</td>\n",
              "    </tr>\n",
              "  </tbody>\n",
              "</table>\n",
              "</div>\n",
              "      <button class=\"colab-df-convert\" onclick=\"convertToInteractive('df-51e81544-50ac-4bec-a298-eab2b3cf8f8f')\"\n",
              "              title=\"Convert this dataframe to an interactive table.\"\n",
              "              style=\"display:none;\">\n",
              "        \n",
              "  <svg xmlns=\"http://www.w3.org/2000/svg\" height=\"24px\"viewBox=\"0 0 24 24\"\n",
              "       width=\"24px\">\n",
              "    <path d=\"M0 0h24v24H0V0z\" fill=\"none\"/>\n",
              "    <path d=\"M18.56 5.44l.94 2.06.94-2.06 2.06-.94-2.06-.94-.94-2.06-.94 2.06-2.06.94zm-11 1L8.5 8.5l.94-2.06 2.06-.94-2.06-.94L8.5 2.5l-.94 2.06-2.06.94zm10 10l.94 2.06.94-2.06 2.06-.94-2.06-.94-.94-2.06-.94 2.06-2.06.94z\"/><path d=\"M17.41 7.96l-1.37-1.37c-.4-.4-.92-.59-1.43-.59-.52 0-1.04.2-1.43.59L10.3 9.45l-7.72 7.72c-.78.78-.78 2.05 0 2.83L4 21.41c.39.39.9.59 1.41.59.51 0 1.02-.2 1.41-.59l7.78-7.78 2.81-2.81c.8-.78.8-2.07 0-2.86zM5.41 20L4 18.59l7.72-7.72 1.47 1.35L5.41 20z\"/>\n",
              "  </svg>\n",
              "      </button>\n",
              "      \n",
              "  <style>\n",
              "    .colab-df-container {\n",
              "      display:flex;\n",
              "      flex-wrap:wrap;\n",
              "      gap: 12px;\n",
              "    }\n",
              "\n",
              "    .colab-df-convert {\n",
              "      background-color: #E8F0FE;\n",
              "      border: none;\n",
              "      border-radius: 50%;\n",
              "      cursor: pointer;\n",
              "      display: none;\n",
              "      fill: #1967D2;\n",
              "      height: 32px;\n",
              "      padding: 0 0 0 0;\n",
              "      width: 32px;\n",
              "    }\n",
              "\n",
              "    .colab-df-convert:hover {\n",
              "      background-color: #E2EBFA;\n",
              "      box-shadow: 0px 1px 2px rgba(60, 64, 67, 0.3), 0px 1px 3px 1px rgba(60, 64, 67, 0.15);\n",
              "      fill: #174EA6;\n",
              "    }\n",
              "\n",
              "    [theme=dark] .colab-df-convert {\n",
              "      background-color: #3B4455;\n",
              "      fill: #D2E3FC;\n",
              "    }\n",
              "\n",
              "    [theme=dark] .colab-df-convert:hover {\n",
              "      background-color: #434B5C;\n",
              "      box-shadow: 0px 1px 3px 1px rgba(0, 0, 0, 0.15);\n",
              "      filter: drop-shadow(0px 1px 2px rgba(0, 0, 0, 0.3));\n",
              "      fill: #FFFFFF;\n",
              "    }\n",
              "  </style>\n",
              "\n",
              "      <script>\n",
              "        const buttonEl =\n",
              "          document.querySelector('#df-51e81544-50ac-4bec-a298-eab2b3cf8f8f button.colab-df-convert');\n",
              "        buttonEl.style.display =\n",
              "          google.colab.kernel.accessAllowed ? 'block' : 'none';\n",
              "\n",
              "        async function convertToInteractive(key) {\n",
              "          const element = document.querySelector('#df-51e81544-50ac-4bec-a298-eab2b3cf8f8f');\n",
              "          const dataTable =\n",
              "            await google.colab.kernel.invokeFunction('convertToInteractive',\n",
              "                                                     [key], {});\n",
              "          if (!dataTable) return;\n",
              "\n",
              "          const docLinkHtml = 'Like what you see? Visit the ' +\n",
              "            '<a target=\"_blank\" href=https://colab.research.google.com/notebooks/data_table.ipynb>data table notebook</a>'\n",
              "            + ' to learn more about interactive tables.';\n",
              "          element.innerHTML = '';\n",
              "          dataTable['output_type'] = 'display_data';\n",
              "          await google.colab.output.renderOutput(dataTable, element);\n",
              "          const docLink = document.createElement('div');\n",
              "          docLink.innerHTML = docLinkHtml;\n",
              "          element.appendChild(docLink);\n",
              "        }\n",
              "      </script>\n",
              "    </div>\n",
              "  </div>\n",
              "  "
            ]
          },
          "metadata": {},
          "execution_count": 8
        }
      ]
    },
    {
      "cell_type": "markdown",
      "source": [
        "**Visualization Data**"
      ],
      "metadata": {
        "id": "LZjB1eg1z5Wn"
      }
    },
    {
      "cell_type": "markdown",
      "source": [
        "original data before data preprocessing"
      ],
      "metadata": {
        "id": "BpfBzgqy6G2i"
      }
    },
    {
      "cell_type": "code",
      "source": [
        "# plotting variation graphs for each variable\n",
        " \n",
        "vis = data.hist(figsize = (10,10))\n",
        "plt.savefig('Histo_Dataset_9.png')"
      ],
      "metadata": {
        "colab": {
          "base_uri": "https://localhost:8080/",
          "height": 607
        },
        "id": "7CqwhkBiz5cX",
        "outputId": "54fcfd57-82cb-488a-fb7e-76c1c540d12f"
      },
      "execution_count": 9,
      "outputs": [
        {
          "output_type": "display_data",
          "data": {
            "text/plain": [
              "<Figure size 720x720 with 9 Axes>"
            ],
            "image/png": "[encoded data removed]"
          },
          "metadata": {
            "needs_background": "light"
          }
        }
      ]
    },
    {
      "cell_type": "code",
      "source": [
        "# 0 : NonDiabetes\n",
        "# 1 : Diabetes\n",
        "# plotting graph for output classes counts\n",
        "\n",
        "vis = sns.countplot(x=data['Outcome'])\n",
        "data['Outcome'].value_counts()\n",
        "plt.title('Variabel Outcome', pad=5, y=1.05, size=20 )\n",
        "plt.savefig('Graph_Outcome_Count.png')"
      ],
      "metadata": {
        "colab": {
          "base_uri": "https://localhost:8080/",
          "height": 310
        },
        "id": "qh5yg6aZ9sC2",
        "outputId": "edce5124-cd69-4aef-98db-31be9e5df1bb"
      },
      "execution_count": 10,
      "outputs": [
        {
          "output_type": "display_data",
          "data": {
            "text/plain": [
              "<Figure size 432x288 with 1 Axes>"
            ],
            "image/png": "[encoded data removed]"
          },
          "metadata": {
            "needs_background": "light"
          }
        }
      ]
    },
    {
      "cell_type": "markdown",
      "source": [
        "# Preprocessing Data\n",
        "\n",
        "---\n",
        "\n"
      ],
      "metadata": {
        "id": "zgXjEHVPv4_-"
      }
    },
    {
      "cell_type": "markdown",
      "source": [
        "\n",
        "\n",
        "*   Check Data\n",
        "*   Data Cleaning\n",
        "*   Data Integration\n",
        "*   Data Selection\n",
        "*   Data Transformation\n",
        "\n",
        "\n"
      ],
      "metadata": {
        "id": "E_uaOsAx0ICo"
      }
    },
    {
      "cell_type": "markdown",
      "source": [
        "**Check Data**"
      ],
      "metadata": {
        "id": "kojbw_zE0V5d"
      }
    },
    {
      "cell_type": "code",
      "source": [
        "# print type data\n",
        "print('Type Data')\n",
        "print(data.dtypes)"
      ],
      "metadata": {
        "colab": {
          "base_uri": "https://localhost:8080/"
        },
        "id": "DqsLjoeS0XRA",
        "outputId": "08bcd107-4e19-47a7-cc28-e56841dff08e"
      },
      "execution_count": 11,
      "outputs": [
        {
          "output_type": "stream",
          "name": "stdout",
          "text": [
            "Type Data\n",
            "Pregnancies                   int64\n",
            "Glucose                       int64\n",
            "BloodPressure                 int64\n",
            "SkinThickness                 int64\n",
            "Insulin                       int64\n",
            "BMI                         float64\n",
            "DiabetesPedigreeFunction    float64\n",
            "Age                           int64\n",
            "Outcome                       int64\n",
            "dtype: object\n"
          ]
        }
      ]
    },
    {
      "cell_type": "code",
      "source": [
        "data.info()"
      ],
      "metadata": {
        "colab": {
          "base_uri": "https://localhost:8080/"
        },
        "id": "I2zAhsKuj5Pn",
        "outputId": "c367ed0a-e3a7-428d-d95f-d52684c9658d"
      },
      "execution_count": 12,
      "outputs": [
        {
          "output_type": "stream",
          "name": "stdout",
          "text": [
            "<class 'pandas.core.frame.DataFrame'>\n",
            "RangeIndex: 768 entries, 0 to 767\n",
            "Data columns (total 9 columns):\n",
            " #   Column                    Non-Null Count  Dtype  \n",
            "---  ------                    --------------  -----  \n",
            " 0   Pregnancies               768 non-null    int64  \n",
            " 1   Glucose                   768 non-null    int64  \n",
            " 2   BloodPressure             768 non-null    int64  \n",
            " 3   SkinThickness             768 non-null    int64  \n",
            " 4   Insulin                   768 non-null    int64  \n",
            " 5   BMI                       768 non-null    float64\n",
            " 6   DiabetesPedigreeFunction  768 non-null    float64\n",
            " 7   Age                       768 non-null    int64  \n",
            " 8   Outcome                   768 non-null    int64  \n",
            "dtypes: float64(2), int64(7)\n",
            "memory usage: 54.1 KB\n"
          ]
        }
      ]
    },
    {
      "cell_type": "markdown",
      "source": [
        "Type of Dataset is Numeric"
      ],
      "metadata": {
        "id": "rbka903--p_F"
      }
    },
    {
      "cell_type": "markdown",
      "source": [
        "**Data cleaning**"
      ],
      "metadata": {
        "id": "FmEdC2yhx3DG"
      }
    },
    {
      "cell_type": "code",
      "source": [
        "# Check missing values\n",
        "# NaN\n",
        "print('Check missing values NaN')\n",
        "data.isnull().sum()"
      ],
      "metadata": {
        "colab": {
          "base_uri": "https://localhost:8080/"
        },
        "id": "wHJZfSecv659",
        "outputId": "874ea844-fd0c-4aca-ef76-f30703433d7a"
      },
      "execution_count": 13,
      "outputs": [
        {
          "output_type": "stream",
          "name": "stdout",
          "text": [
            "Check missing values NaN\n"
          ]
        },
        {
          "output_type": "execute_result",
          "data": {
            "text/plain": [
              "Pregnancies                 0\n",
              "Glucose                     0\n",
              "BloodPressure               0\n",
              "SkinThickness               0\n",
              "Insulin                     0\n",
              "BMI                         0\n",
              "DiabetesPedigreeFunction    0\n",
              "Age                         0\n",
              "Outcome                     0\n",
              "dtype: int64"
            ]
          },
          "metadata": {},
          "execution_count": 13
        }
      ]
    },
    {
      "cell_type": "markdown",
      "source": [
        "No null value present in data"
      ],
      "metadata": {
        "id": "w2YM5V3m-_MP"
      }
    },
    {
      "cell_type": "code",
      "source": [
        "# Removing the data duplicates\n",
        "\n",
        "data.duplicated().sum()\n",
        "print('Result Data Duplicates')\n",
        "display(data.drop_duplicates(inplace=True))\n",
        "\n",
        "# Information dataset\n",
        "print()\n",
        "print('Information Dataset')\n",
        "data.info()"
      ],
      "metadata": {
        "id": "6CMEBxBFEODG",
        "colab": {
          "base_uri": "https://localhost:8080/",
          "height": 364
        },
        "outputId": "a2d22224-0bb1-426b-d3fa-de056ba243fd"
      },
      "execution_count": 14,
      "outputs": [
        {
          "output_type": "stream",
          "name": "stdout",
          "text": [
            "Result Data Duplicates\n"
          ]
        },
        {
          "output_type": "display_data",
          "data": {
            "text/plain": [
              "None"
            ]
          },
          "metadata": {}
        },
        {
          "output_type": "stream",
          "name": "stdout",
          "text": [
            "\n",
            "Information Dataset\n",
            "<class 'pandas.core.frame.DataFrame'>\n",
            "Int64Index: 768 entries, 0 to 767\n",
            "Data columns (total 9 columns):\n",
            " #   Column                    Non-Null Count  Dtype  \n",
            "---  ------                    --------------  -----  \n",
            " 0   Pregnancies               768 non-null    int64  \n",
            " 1   Glucose                   768 non-null    int64  \n",
            " 2   BloodPressure             768 non-null    int64  \n",
            " 3   SkinThickness             768 non-null    int64  \n",
            " 4   Insulin                   768 non-null    int64  \n",
            " 5   BMI                       768 non-null    float64\n",
            " 6   DiabetesPedigreeFunction  768 non-null    float64\n",
            " 7   Age                       768 non-null    int64  \n",
            " 8   Outcome                   768 non-null    int64  \n",
            "dtypes: float64(2), int64(7)\n",
            "memory usage: 60.0 KB\n"
          ]
        }
      ]
    },
    {
      "cell_type": "code",
      "source": [
        "# Read data\n",
        "data"
      ],
      "metadata": {
        "colab": {
          "base_uri": "https://localhost:8080/",
          "height": 424
        },
        "id": "r2_g4HWBf2jk",
        "outputId": "aac0e632-bae4-4745-c510-64d7ea08c5f6"
      },
      "execution_count": 15,
      "outputs": [
        {
          "output_type": "execute_result",
          "data": {
            "text/plain": [
              "     Pregnancies  Glucose  BloodPressure  SkinThickness  Insulin   BMI  \\\n",
              "0              6      148             72             35        0  33.6   \n",
              "1              1       85             66             29        0  26.6   \n",
              "2              8      183             64              0        0  23.3   \n",
              "3              1       89             66             23       94  28.1   \n",
              "4              0      137             40             35      168  43.1   \n",
              "..           ...      ...            ...            ...      ...   ...   \n",
              "763           10      101             76             48      180  32.9   \n",
              "764            2      122             70             27        0  36.8   \n",
              "765            5      121             72             23      112  26.2   \n",
              "766            1      126             60              0        0  30.1   \n",
              "767            1       93             70             31        0  30.4   \n",
              "\n",
              "     DiabetesPedigreeFunction  Age  Outcome  \n",
              "0                       0.627   50        1  \n",
              "1                       0.351   31        0  \n",
              "2                       0.672   32        1  \n",
              "3                       0.167   21        0  \n",
              "4                       2.288   33        1  \n",
              "..                        ...  ...      ...  \n",
              "763                     0.171   63        0  \n",
              "764                     0.340   27        0  \n",
              "765                     0.245   30        0  \n",
              "766                     0.349   47        1  \n",
              "767                     0.315   23        0  \n",
              "\n",
              "[768 rows x 9 columns]"
            ],
            "text/html": [
              "\n",
              "  <div id=\"df-0978af3b-87c9-4a64-9af6-934e4bd8cf46\">\n",
              "    <div class=\"colab-df-container\">\n",
              "      <div>\n",
              "<style scoped>\n",
              "    .dataframe tbody tr th:only-of-type {\n",
              "        vertical-align: middle;\n",
              "    }\n",
              "\n",
              "    .dataframe tbody tr th {\n",
              "        vertical-align: top;\n",
              "    }\n",
              "\n",
              "    .dataframe thead th {\n",
              "        text-align: right;\n",
              "    }\n",
              "</style>\n",
              "<table border=\"1\" class=\"dataframe\">\n",
              "  <thead>\n",
              "    <tr style=\"text-align: right;\">\n",
              "      <th></th>\n",
              "      <th>Pregnancies</th>\n",
              "      <th>Glucose</th>\n",
              "      <th>BloodPressure</th>\n",
              "      <th>SkinThickness</th>\n",
              "      <th>Insulin</th>\n",
              "      <th>BMI</th>\n",
              "      <th>DiabetesPedigreeFunction</th>\n",
              "      <th>Age</th>\n",
              "      <th>Outcome</th>\n",
              "    </tr>\n",
              "  </thead>\n",
              "  <tbody>\n",
              "    <tr>\n",
              "      <th>0</th>\n",
              "      <td>6</td>\n",
              "      <td>148</td>\n",
              "      <td>72</td>\n",
              "      <td>35</td>\n",
              "      <td>0</td>\n",
              "      <td>33.6</td>\n",
              "      <td>0.627</td>\n",
              "      <td>50</td>\n",
              "      <td>1</td>\n",
              "    </tr>\n",
              "    <tr>\n",
              "      <th>1</th>\n",
              "      <td>1</td>\n",
              "      <td>85</td>\n",
              "      <td>66</td>\n",
              "      <td>29</td>\n",
              "      <td>0</td>\n",
              "      <td>26.6</td>\n",
              "      <td>0.351</td>\n",
              "      <td>31</td>\n",
              "      <td>0</td>\n",
              "    </tr>\n",
              "    <tr>\n",
              "      <th>2</th>\n",
              "      <td>8</td>\n",
              "      <td>183</td>\n",
              "      <td>64</td>\n",
              "      <td>0</td>\n",
              "      <td>0</td>\n",
              "      <td>23.3</td>\n",
              "      <td>0.672</td>\n",
              "      <td>32</td>\n",
              "      <td>1</td>\n",
              "    </tr>\n",
              "    <tr>\n",
              "      <th>3</th>\n",
              "      <td>1</td>\n",
              "      <td>89</td>\n",
              "      <td>66</td>\n",
              "      <td>23</td>\n",
              "      <td>94</td>\n",
              "      <td>28.1</td>\n",
              "      <td>0.167</td>\n",
              "      <td>21</td>\n",
              "      <td>0</td>\n",
              "    </tr>\n",
              "    <tr>\n",
              "      <th>4</th>\n",
              "      <td>0</td>\n",
              "      <td>137</td>\n",
              "      <td>40</td>\n",
              "      <td>35</td>\n",
              "      <td>168</td>\n",
              "      <td>43.1</td>\n",
              "      <td>2.288</td>\n",
              "      <td>33</td>\n",
              "      <td>1</td>\n",
              "    </tr>\n",
              "    <tr>\n",
              "      <th>...</th>\n",
              "      <td>...</td>\n",
              "      <td>...</td>\n",
              "      <td>...</td>\n",
              "      <td>...</td>\n",
              "      <td>...</td>\n",
              "      <td>...</td>\n",
              "      <td>...</td>\n",
              "      <td>...</td>\n",
              "      <td>...</td>\n",
              "    </tr>\n",
              "    <tr>\n",
              "      <th>763</th>\n",
              "      <td>10</td>\n",
              "      <td>101</td>\n",
              "      <td>76</td>\n",
              "      <td>48</td>\n",
              "      <td>180</td>\n",
              "      <td>32.9</td>\n",
              "      <td>0.171</td>\n",
              "      <td>63</td>\n",
              "      <td>0</td>\n",
              "    </tr>\n",
              "    <tr>\n",
              "      <th>764</th>\n",
              "      <td>2</td>\n",
              "      <td>122</td>\n",
              "      <td>70</td>\n",
              "      <td>27</td>\n",
              "      <td>0</td>\n",
              "      <td>36.8</td>\n",
              "      <td>0.340</td>\n",
              "      <td>27</td>\n",
              "      <td>0</td>\n",
              "    </tr>\n",
              "    <tr>\n",
              "      <th>765</th>\n",
              "      <td>5</td>\n",
              "      <td>121</td>\n",
              "      <td>72</td>\n",
              "      <td>23</td>\n",
              "      <td>112</td>\n",
              "      <td>26.2</td>\n",
              "      <td>0.245</td>\n",
              "      <td>30</td>\n",
              "      <td>0</td>\n",
              "    </tr>\n",
              "    <tr>\n",
              "      <th>766</th>\n",
              "      <td>1</td>\n",
              "      <td>126</td>\n",
              "      <td>60</td>\n",
              "      <td>0</td>\n",
              "      <td>0</td>\n",
              "      <td>30.1</td>\n",
              "      <td>0.349</td>\n",
              "      <td>47</td>\n",
              "      <td>1</td>\n",
              "    </tr>\n",
              "    <tr>\n",
              "      <th>767</th>\n",
              "      <td>1</td>\n",
              "      <td>93</td>\n",
              "      <td>70</td>\n",
              "      <td>31</td>\n",
              "      <td>0</td>\n",
              "      <td>30.4</td>\n",
              "      <td>0.315</td>\n",
              "      <td>23</td>\n",
              "      <td>0</td>\n",
              "    </tr>\n",
              "  </tbody>\n",
              "</table>\n",
              "<p>768 rows × 9 columns</p>\n",
              "</div>\n",
              "      <button class=\"colab-df-convert\" onclick=\"convertToInteractive('df-0978af3b-87c9-4a64-9af6-934e4bd8cf46')\"\n",
              "              title=\"Convert this dataframe to an interactive table.\"\n",
              "              style=\"display:none;\">\n",
              "        \n",
              "  <svg xmlns=\"http://www.w3.org/2000/svg\" height=\"24px\"viewBox=\"0 0 24 24\"\n",
              "       width=\"24px\">\n",
              "    <path d=\"M0 0h24v24H0V0z\" fill=\"none\"/>\n",
              "    <path d=\"M18.56 5.44l.94 2.06.94-2.06 2.06-.94-2.06-.94-.94-2.06-.94 2.06-2.06.94zm-11 1L8.5 8.5l.94-2.06 2.06-.94-2.06-.94L8.5 2.5l-.94 2.06-2.06.94zm10 10l.94 2.06.94-2.06 2.06-.94-2.06-.94-.94-2.06-.94 2.06-2.06.94z\"/><path d=\"M17.41 7.96l-1.37-1.37c-.4-.4-.92-.59-1.43-.59-.52 0-1.04.2-1.43.59L10.3 9.45l-7.72 7.72c-.78.78-.78 2.05 0 2.83L4 21.41c.39.39.9.59 1.41.59.51 0 1.02-.2 1.41-.59l7.78-7.78 2.81-2.81c.8-.78.8-2.07 0-2.86zM5.41 20L4 18.59l7.72-7.72 1.47 1.35L5.41 20z\"/>\n",
              "  </svg>\n",
              "      </button>\n",
              "      \n",
              "  <style>\n",
              "    .colab-df-container {\n",
              "      display:flex;\n",
              "      flex-wrap:wrap;\n",
              "      gap: 12px;\n",
              "    }\n",
              "\n",
              "    .colab-df-convert {\n",
              "      background-color: #E8F0FE;\n",
              "      border: none;\n",
              "      border-radius: 50%;\n",
              "      cursor: pointer;\n",
              "      display: none;\n",
              "      fill: #1967D2;\n",
              "      height: 32px;\n",
              "      padding: 0 0 0 0;\n",
              "      width: 32px;\n",
              "    }\n",
              "\n",
              "    .colab-df-convert:hover {\n",
              "      background-color: #E2EBFA;\n",
              "      box-shadow: 0px 1px 2px rgba(60, 64, 67, 0.3), 0px 1px 3px 1px rgba(60, 64, 67, 0.15);\n",
              "      fill: #174EA6;\n",
              "    }\n",
              "\n",
              "    [theme=dark] .colab-df-convert {\n",
              "      background-color: #3B4455;\n",
              "      fill: #D2E3FC;\n",
              "    }\n",
              "\n",
              "    [theme=dark] .colab-df-convert:hover {\n",
              "      background-color: #434B5C;\n",
              "      box-shadow: 0px 1px 3px 1px rgba(0, 0, 0, 0.15);\n",
              "      filter: drop-shadow(0px 1px 2px rgba(0, 0, 0, 0.3));\n",
              "      fill: #FFFFFF;\n",
              "    }\n",
              "  </style>\n",
              "\n",
              "      <script>\n",
              "        const buttonEl =\n",
              "          document.querySelector('#df-0978af3b-87c9-4a64-9af6-934e4bd8cf46 button.colab-df-convert');\n",
              "        buttonEl.style.display =\n",
              "          google.colab.kernel.accessAllowed ? 'block' : 'none';\n",
              "\n",
              "        async function convertToInteractive(key) {\n",
              "          const element = document.querySelector('#df-0978af3b-87c9-4a64-9af6-934e4bd8cf46');\n",
              "          const dataTable =\n",
              "            await google.colab.kernel.invokeFunction('convertToInteractive',\n",
              "                                                     [key], {});\n",
              "          if (!dataTable) return;\n",
              "\n",
              "          const docLinkHtml = 'Like what you see? Visit the ' +\n",
              "            '<a target=\"_blank\" href=https://colab.research.google.com/notebooks/data_table.ipynb>data table notebook</a>'\n",
              "            + ' to learn more about interactive tables.';\n",
              "          element.innerHTML = '';\n",
              "          dataTable['output_type'] = 'display_data';\n",
              "          await google.colab.output.renderOutput(dataTable, element);\n",
              "          const docLink = document.createElement('div');\n",
              "          docLink.innerHTML = docLinkHtml;\n",
              "          element.appendChild(docLink);\n",
              "        }\n",
              "      </script>\n",
              "    </div>\n",
              "  </div>\n",
              "  "
            ]
          },
          "metadata": {},
          "execution_count": 15
        }
      ]
    },
    {
      "cell_type": "code",
      "source": [
        "# Check column names in dataset\n",
        "\n",
        "data.columns"
      ],
      "metadata": {
        "colab": {
          "base_uri": "https://localhost:8080/"
        },
        "id": "BYGvYNiqBBzV",
        "outputId": "890778fe-04f3-4d58-9fa8-bbf9411b162d"
      },
      "execution_count": 16,
      "outputs": [
        {
          "output_type": "execute_result",
          "data": {
            "text/plain": [
              "Index(['Pregnancies', 'Glucose', 'BloodPressure', 'SkinThickness', 'Insulin',\n",
              "       'BMI', 'DiabetesPedigreeFunction', 'Age', 'Outcome'],\n",
              "      dtype='object')"
            ]
          },
          "metadata": {},
          "execution_count": 16
        }
      ]
    },
    {
      "cell_type": "code",
      "source": [
        "# Checking data if data has 0 values present \n",
        "\n",
        "print('Check Data that has a value of 0 in each feature')\n",
        "print('-------------------------------')\n",
        "\n",
        "\n",
        "print(\"Pregnancies: {0}\".format(len(data.loc[data['Pregnancies'] == 0])))\n",
        "print(\"Glucose: {0}\".format(len(data.loc[data['Glucose'] == 0])))\n",
        "print(\"BloodPressure: {0}\".format(len(data.loc[data['BloodPressure'] == 0])))\n",
        "print(\"SkinThickness: {0}\".format(len(data.loc[data['SkinThickness'] == 0])))\n",
        "print(\"Insulin: {0}\".format(len(data.loc[data['Insulin'] == 0])))\n",
        "print(\"BMI: {0}\".format(len(data.loc[data['BMI'] == 0])))\n",
        "print(\"DiabetesPedigreeFunction: {0}\".format(len(data.loc[data['DiabetesPedigreeFunction'] == 0])))\n",
        "print(\"Age: {0}\".format(len(data.loc[data['Age'] == 0])))"
      ],
      "metadata": {
        "colab": {
          "base_uri": "https://localhost:8080/"
        },
        "id": "wWmheHG3A9Yl",
        "outputId": "bf8c7c93-2892-41f4-8d45-69dcbcbcf8c7"
      },
      "execution_count": 17,
      "outputs": [
        {
          "output_type": "stream",
          "name": "stdout",
          "text": [
            "Check Data that has a value of 0 in each feature\n",
            "-------------------------------\n",
            "Pregnancies: 111\n",
            "Glucose: 5\n",
            "BloodPressure: 35\n",
            "SkinThickness: 227\n",
            "Insulin: 374\n",
            "BMI: 11\n",
            "DiabetesPedigreeFunction: 0\n",
            "Age: 0\n"
          ]
        }
      ]
    },
    {
      "cell_type": "code",
      "source": [
        "# fill in the value 0 in each feature with the mean or median\n",
        "# except feature pregnancies\n",
        "\n",
        "mean = data[\"Glucose\"].mean()\n",
        "data[\"Glucose\"] = data[\"Glucose\"].replace(0, mean)\n",
        "\n",
        "mean = data[\"SkinThickness\"].mean()\n",
        "data[\"SkinThickness\"] = data[\"SkinThickness\"].replace(0, mean)\n",
        "\n",
        "mean= data[\"Insulin\"].mean()\n",
        "data[\"Insulin\"] = data[\"Insulin\"].replace(0, mean)\n",
        "\n",
        "mean = data[\"BloodPressure\"].mean()\n",
        "data[\"BloodPressure\"] = data[\"BloodPressure\"].replace(0, mean)\n",
        "\n",
        "median = data[\"BMI\"].median()\n",
        "data[\"BMI\"] = data[\"BMI\"].replace(0, median)"
      ],
      "metadata": {
        "id": "FUYMD5OeIL-A"
      },
      "execution_count": 18,
      "outputs": []
    },
    {
      "cell_type": "code",
      "source": [
        "# After filling in the value 0 in the data with the mean or median\n",
        "print('Check data that has a value of 0')\n",
        "print('after filling in the mean or median')\n",
        "print('-------------------------------')\n",
        "\n",
        "\n",
        "print(\"Pregnancies: {0}\".format(len(data.loc[data['Pregnancies'] == 0])))\n",
        "print(\"Glucose: {0}\".format(len(data.loc[data['Glucose'] == 0])))\n",
        "print(\"BloodPressure: {0}\".format(len(data.loc[data['BloodPressure'] == 0])))\n",
        "print(\"SkinThickness: {0}\".format(len(data.loc[data['SkinThickness'] == 0])))\n",
        "print(\"Insulin: {0}\".format(len(data.loc[data['Insulin'] == 0])))\n",
        "print(\"BMI: {0}\".format(len(data.loc[data['BMI'] == 0])))\n",
        "print(\"DiabetesPedigreeFunction: {0}\".format(len(data.loc[data['DiabetesPedigreeFunction'] == 0])))\n",
        "print(\"Age: {0}\".format(len(data.loc[data['Age'] == 0])))"
      ],
      "metadata": {
        "colab": {
          "base_uri": "https://localhost:8080/"
        },
        "id": "t1oHc2sBzEI2",
        "outputId": "aa0aed1d-a3d1-4de8-c98c-39fd2966749a"
      },
      "execution_count": 19,
      "outputs": [
        {
          "output_type": "stream",
          "name": "stdout",
          "text": [
            "Check data that has a value of 0\n",
            "after filling in the mean or median\n",
            "-------------------------------\n",
            "Pregnancies: 111\n",
            "Glucose: 0\n",
            "BloodPressure: 0\n",
            "SkinThickness: 0\n",
            "Insulin: 0\n",
            "BMI: 0\n",
            "DiabetesPedigreeFunction: 0\n",
            "Age: 0\n"
          ]
        }
      ]
    },
    {
      "cell_type": "code",
      "source": [
        "# Read dataset after data cleaning\n",
        "data"
      ],
      "metadata": {
        "colab": {
          "base_uri": "https://localhost:8080/",
          "height": 424
        },
        "id": "xlHARrnqkHqB",
        "outputId": "84d314c4-e11d-4ce3-c844-6810599a9093"
      },
      "execution_count": 20,
      "outputs": [
        {
          "output_type": "execute_result",
          "data": {
            "text/plain": [
              "     Pregnancies  Glucose  BloodPressure  SkinThickness     Insulin   BMI  \\\n",
              "0              6    148.0           72.0      35.000000   79.799479  33.6   \n",
              "1              1     85.0           66.0      29.000000   79.799479  26.6   \n",
              "2              8    183.0           64.0      20.536458   79.799479  23.3   \n",
              "3              1     89.0           66.0      23.000000   94.000000  28.1   \n",
              "4              0    137.0           40.0      35.000000  168.000000  43.1   \n",
              "..           ...      ...            ...            ...         ...   ...   \n",
              "763           10    101.0           76.0      48.000000  180.000000  32.9   \n",
              "764            2    122.0           70.0      27.000000   79.799479  36.8   \n",
              "765            5    121.0           72.0      23.000000  112.000000  26.2   \n",
              "766            1    126.0           60.0      20.536458   79.799479  30.1   \n",
              "767            1     93.0           70.0      31.000000   79.799479  30.4   \n",
              "\n",
              "     DiabetesPedigreeFunction  Age  Outcome  \n",
              "0                       0.627   50        1  \n",
              "1                       0.351   31        0  \n",
              "2                       0.672   32        1  \n",
              "3                       0.167   21        0  \n",
              "4                       2.288   33        1  \n",
              "..                        ...  ...      ...  \n",
              "763                     0.171   63        0  \n",
              "764                     0.340   27        0  \n",
              "765                     0.245   30        0  \n",
              "766                     0.349   47        1  \n",
              "767                     0.315   23        0  \n",
              "\n",
              "[768 rows x 9 columns]"
            ],
            "text/html": [
              "\n",
              "  <div id=\"df-02eb6854-f629-470b-9c62-d6c10b0e680f\">\n",
              "    <div class=\"colab-df-container\">\n",
              "      <div>\n",
              "<style scoped>\n",
              "    .dataframe tbody tr th:only-of-type {\n",
              "        vertical-align: middle;\n",
              "    }\n",
              "\n",
              "    .dataframe tbody tr th {\n",
              "        vertical-align: top;\n",
              "    }\n",
              "\n",
              "    .dataframe thead th {\n",
              "        text-align: right;\n",
              "    }\n",
              "</style>\n",
              "<table border=\"1\" class=\"dataframe\">\n",
              "  <thead>\n",
              "    <tr style=\"text-align: right;\">\n",
              "      <th></th>\n",
              "      <th>Pregnancies</th>\n",
              "      <th>Glucose</th>\n",
              "      <th>BloodPressure</th>\n",
              "      <th>SkinThickness</th>\n",
              "      <th>Insulin</th>\n",
              "      <th>BMI</th>\n",
              "      <th>DiabetesPedigreeFunction</th>\n",
              "      <th>Age</th>\n",
              "      <th>Outcome</th>\n",
              "    </tr>\n",
              "  </thead>\n",
              "  <tbody>\n",
              "    <tr>\n",
              "      <th>0</th>\n",
              "      <td>6</td>\n",
              "      <td>148.0</td>\n",
              "      <td>72.0</td>\n",
              "      <td>35.000000</td>\n",
              "      <td>79.799479</td>\n",
              "      <td>33.6</td>\n",
              "      <td>0.627</td>\n",
              "      <td>50</td>\n",
              "      <td>1</td>\n",
              "    </tr>\n",
              "    <tr>\n",
              "      <th>1</th>\n",
              "      <td>1</td>\n",
              "      <td>85.0</td>\n",
              "      <td>66.0</td>\n",
              "      <td>29.000000</td>\n",
              "      <td>79.799479</td>\n",
              "      <td>26.6</td>\n",
              "      <td>0.351</td>\n",
              "      <td>31</td>\n",
              "      <td>0</td>\n",
              "    </tr>\n",
              "    <tr>\n",
              "      <th>2</th>\n",
              "      <td>8</td>\n",
              "      <td>183.0</td>\n",
              "      <td>64.0</td>\n",
              "      <td>20.536458</td>\n",
              "      <td>79.799479</td>\n",
              "      <td>23.3</td>\n",
              "      <td>0.672</td>\n",
              "      <td>32</td>\n",
              "      <td>1</td>\n",
              "    </tr>\n",
              "    <tr>\n",
              "      <th>3</th>\n",
              "      <td>1</td>\n",
              "      <td>89.0</td>\n",
              "      <td>66.0</td>\n",
              "      <td>23.000000</td>\n",
              "      <td>94.000000</td>\n",
              "      <td>28.1</td>\n",
              "      <td>0.167</td>\n",
              "      <td>21</td>\n",
              "      <td>0</td>\n",
              "    </tr>\n",
              "    <tr>\n",
              "      <th>4</th>\n",
              "      <td>0</td>\n",
              "      <td>137.0</td>\n",
              "      <td>40.0</td>\n",
              "      <td>35.000000</td>\n",
              "      <td>168.000000</td>\n",
              "      <td>43.1</td>\n",
              "      <td>2.288</td>\n",
              "      <td>33</td>\n",
              "      <td>1</td>\n",
              "    </tr>\n",
              "    <tr>\n",
              "      <th>...</th>\n",
              "      <td>...</td>\n",
              "      <td>...</td>\n",
              "      <td>...</td>\n",
              "      <td>...</td>\n",
              "      <td>...</td>\n",
              "      <td>...</td>\n",
              "      <td>...</td>\n",
              "      <td>...</td>\n",
              "      <td>...</td>\n",
              "    </tr>\n",
              "    <tr>\n",
              "      <th>763</th>\n",
              "      <td>10</td>\n",
              "      <td>101.0</td>\n",
              "      <td>76.0</td>\n",
              "      <td>48.000000</td>\n",
              "      <td>180.000000</td>\n",
              "      <td>32.9</td>\n",
              "      <td>0.171</td>\n",
              "      <td>63</td>\n",
              "      <td>0</td>\n",
              "    </tr>\n",
              "    <tr>\n",
              "      <th>764</th>\n",
              "      <td>2</td>\n",
              "      <td>122.0</td>\n",
              "      <td>70.0</td>\n",
              "      <td>27.000000</td>\n",
              "      <td>79.799479</td>\n",
              "      <td>36.8</td>\n",
              "      <td>0.340</td>\n",
              "      <td>27</td>\n",
              "      <td>0</td>\n",
              "    </tr>\n",
              "    <tr>\n",
              "      <th>765</th>\n",
              "      <td>5</td>\n",
              "      <td>121.0</td>\n",
              "      <td>72.0</td>\n",
              "      <td>23.000000</td>\n",
              "      <td>112.000000</td>\n",
              "      <td>26.2</td>\n",
              "      <td>0.245</td>\n",
              "      <td>30</td>\n",
              "      <td>0</td>\n",
              "    </tr>\n",
              "    <tr>\n",
              "      <th>766</th>\n",
              "      <td>1</td>\n",
              "      <td>126.0</td>\n",
              "      <td>60.0</td>\n",
              "      <td>20.536458</td>\n",
              "      <td>79.799479</td>\n",
              "      <td>30.1</td>\n",
              "      <td>0.349</td>\n",
              "      <td>47</td>\n",
              "      <td>1</td>\n",
              "    </tr>\n",
              "    <tr>\n",
              "      <th>767</th>\n",
              "      <td>1</td>\n",
              "      <td>93.0</td>\n",
              "      <td>70.0</td>\n",
              "      <td>31.000000</td>\n",
              "      <td>79.799479</td>\n",
              "      <td>30.4</td>\n",
              "      <td>0.315</td>\n",
              "      <td>23</td>\n",
              "      <td>0</td>\n",
              "    </tr>\n",
              "  </tbody>\n",
              "</table>\n",
              "<p>768 rows × 9 columns</p>\n",
              "</div>\n",
              "      <button class=\"colab-df-convert\" onclick=\"convertToInteractive('df-02eb6854-f629-470b-9c62-d6c10b0e680f')\"\n",
              "              title=\"Convert this dataframe to an interactive table.\"\n",
              "              style=\"display:none;\">\n",
              "        \n",
              "  <svg xmlns=\"http://www.w3.org/2000/svg\" height=\"24px\"viewBox=\"0 0 24 24\"\n",
              "       width=\"24px\">\n",
              "    <path d=\"M0 0h24v24H0V0z\" fill=\"none\"/>\n",
              "    <path d=\"M18.56 5.44l.94 2.06.94-2.06 2.06-.94-2.06-.94-.94-2.06-.94 2.06-2.06.94zm-11 1L8.5 8.5l.94-2.06 2.06-.94-2.06-.94L8.5 2.5l-.94 2.06-2.06.94zm10 10l.94 2.06.94-2.06 2.06-.94-2.06-.94-.94-2.06-.94 2.06-2.06.94z\"/><path d=\"M17.41 7.96l-1.37-1.37c-.4-.4-.92-.59-1.43-.59-.52 0-1.04.2-1.43.59L10.3 9.45l-7.72 7.72c-.78.78-.78 2.05 0 2.83L4 21.41c.39.39.9.59 1.41.59.51 0 1.02-.2 1.41-.59l7.78-7.78 2.81-2.81c.8-.78.8-2.07 0-2.86zM5.41 20L4 18.59l7.72-7.72 1.47 1.35L5.41 20z\"/>\n",
              "  </svg>\n",
              "      </button>\n",
              "      \n",
              "  <style>\n",
              "    .colab-df-container {\n",
              "      display:flex;\n",
              "      flex-wrap:wrap;\n",
              "      gap: 12px;\n",
              "    }\n",
              "\n",
              "    .colab-df-convert {\n",
              "      background-color: #E8F0FE;\n",
              "      border: none;\n",
              "      border-radius: 50%;\n",
              "      cursor: pointer;\n",
              "      display: none;\n",
              "      fill: #1967D2;\n",
              "      height: 32px;\n",
              "      padding: 0 0 0 0;\n",
              "      width: 32px;\n",
              "    }\n",
              "\n",
              "    .colab-df-convert:hover {\n",
              "      background-color: #E2EBFA;\n",
              "      box-shadow: 0px 1px 2px rgba(60, 64, 67, 0.3), 0px 1px 3px 1px rgba(60, 64, 67, 0.15);\n",
              "      fill: #174EA6;\n",
              "    }\n",
              "\n",
              "    [theme=dark] .colab-df-convert {\n",
              "      background-color: #3B4455;\n",
              "      fill: #D2E3FC;\n",
              "    }\n",
              "\n",
              "    [theme=dark] .colab-df-convert:hover {\n",
              "      background-color: #434B5C;\n",
              "      box-shadow: 0px 1px 3px 1px rgba(0, 0, 0, 0.15);\n",
              "      filter: drop-shadow(0px 1px 2px rgba(0, 0, 0, 0.3));\n",
              "      fill: #FFFFFF;\n",
              "    }\n",
              "  </style>\n",
              "\n",
              "      <script>\n",
              "        const buttonEl =\n",
              "          document.querySelector('#df-02eb6854-f629-470b-9c62-d6c10b0e680f button.colab-df-convert');\n",
              "        buttonEl.style.display =\n",
              "          google.colab.kernel.accessAllowed ? 'block' : 'none';\n",
              "\n",
              "        async function convertToInteractive(key) {\n",
              "          const element = document.querySelector('#df-02eb6854-f629-470b-9c62-d6c10b0e680f');\n",
              "          const dataTable =\n",
              "            await google.colab.kernel.invokeFunction('convertToInteractive',\n",
              "                                                     [key], {});\n",
              "          if (!dataTable) return;\n",
              "\n",
              "          const docLinkHtml = 'Like what you see? Visit the ' +\n",
              "            '<a target=\"_blank\" href=https://colab.research.google.com/notebooks/data_table.ipynb>data table notebook</a>'\n",
              "            + ' to learn more about interactive tables.';\n",
              "          element.innerHTML = '';\n",
              "          dataTable['output_type'] = 'display_data';\n",
              "          await google.colab.output.renderOutput(dataTable, element);\n",
              "          const docLink = document.createElement('div');\n",
              "          docLink.innerHTML = docLinkHtml;\n",
              "          element.appendChild(docLink);\n",
              "        }\n",
              "      </script>\n",
              "    </div>\n",
              "  </div>\n",
              "  "
            ]
          },
          "metadata": {},
          "execution_count": 20
        }
      ]
    },
    {
      "cell_type": "markdown",
      "source": [
        "**Outlier**"
      ],
      "metadata": {
        "id": "FDdz9ogN2Upv"
      }
    },
    {
      "cell_type": "markdown",
      "source": [
        "![image.png](data:image/png;base64,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)"
      ],
      "metadata": {
        "id": "qA4eTCp36ZX6"
      }
    },
    {
      "cell_type": "code",
      "source": [
        "# Check Outliers in Dataset Diabetes\n",
        "plt.figure(figsize=(16,16))\n",
        "sns.set_style(style='whitegrid')\n",
        "\n",
        "plt.subplot(3,3,1)\n",
        "sns.boxplot(x=data['Pregnancies'],data=data)\n",
        "\n",
        "plt.subplot(3,3,2)\n",
        "sns.boxplot(x=data['Glucose'],data=data)\n",
        "\n",
        "plt.subplot(3,3,3)\n",
        "sns.boxplot(x=data['BloodPressure'],data=data)\n",
        "\n",
        "plt.subplot(3,3,4)\n",
        "sns.boxplot(x=data['SkinThickness'],data=data)\n",
        "\n",
        "plt.subplot(3,3,5)\n",
        "sns.boxplot(x=data['Insulin'],data=data)\n",
        "\n",
        "plt.subplot(3,3,6)\n",
        "sns.boxplot(x=data['BMI'],data=data)\n",
        "\n",
        "plt.subplot(3,3,7)\n",
        "sns.boxplot(x=data['DiabetesPedigreeFunction'],data=data)\n",
        "\n",
        "plt.subplot(3,3,8)\n",
        "sns.boxplot(x=data['Age'],data=data)\n",
        "\n",
        "plt.subplot(3,3,9)\n",
        "sns.boxplot(x=data['Outcome'],data=data)"
      ],
      "metadata": {
        "colab": {
          "base_uri": "https://localhost:8080/",
          "height": 949
        },
        "id": "HVmNIFoS2Xg-",
        "outputId": "0c5d2cd5-762e-4fed-e1db-267fa7fdc9ae"
      },
      "execution_count": 21,
      "outputs": [
        {
          "output_type": "execute_result",
          "data": {
            "text/plain": [
              "<matplotlib.axes._subplots.AxesSubplot at 0x7f6474c99550>"
            ]
          },
          "metadata": {},
          "execution_count": 21
        },
        {
          "output_type": "display_data",
          "data": {
            "text/plain": [
              "<Figure size 1152x1152 with 9 Axes>"
            ],
            "image/png": "[encoded data removed]"
          },
          "metadata": {
            "needs_background": "light"
          }
        }
      ]
    },
    {
      "cell_type": "code",
      "source": [
        "# Handling with IQR for Outliers\n",
        "\n",
        "Q1 = (data[['Pregnancies', 'BloodPressure', 'SkinThickness', 'Insulin','BMI', 'DiabetesPedigreeFunction', 'Age']]).quantile(0.25)\n",
        "Q3 = (data[['Pregnancies', 'BloodPressure', 'SkinThickness', 'Insulin','BMI', 'DiabetesPedigreeFunction', 'Age']]).quantile(0.75)\n",
        "\n",
        "IQR = Q3 - Q1\n",
        "maximum = Q3 + (1.5*IQR)\n",
        "print('Maksikum :', maximum)\n",
        "minimum = Q1 - (1.5*IQR)\n",
        "print('Minimum', minimum)\n",
        "\n",
        "more_than = (data>maximum)\n",
        "lower_than = (data<minimum)\n",
        "\n",
        "data= data.mask(more_than, maximum, axis=1)\n",
        "data = data.mask(lower_than, minimum, axis=1)\n",
        "\n",
        "print('\\n Persebaran Data After Handling Outliers')\n",
        "print(data[['Pregnancies', 'BloodPressure', 'SkinThickness', 'Insulin','BMI', 'DiabetesPedigreeFunction', 'Age']].describe())"
      ],
      "metadata": {
        "colab": {
          "base_uri": "https://localhost:8080/"
        },
        "id": "SvyG2rdXQkW9",
        "outputId": "1527a67f-f7c2-498b-9d44-7b2c323a093a"
      },
      "execution_count": 22,
      "outputs": [
        {
          "output_type": "stream",
          "name": "stdout",
          "text": [
            "Maksikum : Pregnancies                  13.500000\n",
            "BloodPressure               104.000000\n",
            "SkinThickness                49.195312\n",
            "Insulin                     198.425781\n",
            "BMI                          50.250000\n",
            "DiabetesPedigreeFunction      1.200000\n",
            "Age                          66.500000\n",
            "dtype: float64\n",
            "Minimum Pregnancies                 -6.500000\n",
            "BloodPressure               40.000000\n",
            "SkinThickness                3.341146\n",
            "Insulin                      8.623698\n",
            "BMI                         13.850000\n",
            "DiabetesPedigreeFunction    -0.330000\n",
            "Age                         -1.500000\n",
            "dtype: float64\n",
            "\n",
            " Persebaran Data After Handling Outliers\n",
            "       Pregnancies  BloodPressure  SkinThickness     Insulin         BMI  \\\n",
            "count   768.000000     768.000000     768.000000  768.000000  768.000000   \n",
            "mean      3.837240      72.226161      26.475416  103.895703   32.389063   \n",
            "std       3.344157      11.716722       9.112201   46.779152    6.667627   \n",
            "min       0.000000      40.000000       7.000000   14.000000   18.200000   \n",
            "25%       1.000000      64.000000      20.536458   79.799479   27.500000   \n",
            "50%       3.000000      72.000000      23.000000   79.799479   32.000000   \n",
            "75%       6.000000      80.000000      32.000000  127.250000   36.600000   \n",
            "max      13.500000     104.000000      49.195312  198.425781   50.250000   \n",
            "\n",
            "       DiabetesPedigreeFunction         Age  \n",
            "count                768.000000  768.000000  \n",
            "mean                   0.458914   33.199870  \n",
            "std                    0.285596   11.628404  \n",
            "min                    0.078000   21.000000  \n",
            "25%                    0.243750   24.000000  \n",
            "50%                    0.372500   29.000000  \n",
            "75%                    0.626250   41.000000  \n",
            "max                    1.200000   66.500000  \n"
          ]
        },
        {
          "output_type": "stream",
          "name": "stderr",
          "text": [
            "<ipython-input-22-98a7ca0c9ae3>:12: FutureWarning: Automatic reindexing on DataFrame vs Series comparisons is deprecated and will raise ValueError in a future version.  Do `left, right = left.align(right, axis=1, copy=False)` before e.g. `left == right`\n",
            "  more_than = (data>maximum)\n",
            "<ipython-input-22-98a7ca0c9ae3>:13: FutureWarning: Automatic reindexing on DataFrame vs Series comparisons is deprecated and will raise ValueError in a future version.  Do `left, right = left.align(right, axis=1, copy=False)` before e.g. `left == right`\n",
            "  lower_than = (data<minimum)\n"
          ]
        }
      ]
    },
    {
      "cell_type": "code",
      "source": [
        "# Check Outliers in Dataset Diabetes After using IQR\n",
        "plt.figure(figsize=(16,16))\n",
        "sns.set_style(style='whitegrid')\n",
        "\n",
        "plt.subplot(3,3,1)\n",
        "sns.boxplot(x=data['Pregnancies'],data=data)\n",
        "\n",
        "plt.subplot(3,3,2)\n",
        "sns.boxplot(x=data['BloodPressure'],data=data)\n",
        "\n",
        "plt.subplot(3,3,3)\n",
        "sns.boxplot(x=data['SkinThickness'],data=data)\n",
        "\n",
        "plt.subplot(3,3,4)\n",
        "sns.boxplot(x=data['Insulin'],data=data)\n",
        "\n",
        "plt.subplot(3,3,5)\n",
        "sns.boxplot(x=data['BMI'],data=data)\n",
        "\n",
        "plt.subplot(3,3,6)\n",
        "sns.boxplot(x=data['DiabetesPedigreeFunction'],data=data)\n",
        "\n",
        "plt.subplot(3,3,7)\n",
        "sns.boxplot(x=data['Age'],data=data)"
      ],
      "metadata": {
        "colab": {
          "base_uri": "https://localhost:8080/",
          "height": 949
        },
        "id": "r370Z2luavT1",
        "outputId": "e460d9c2-ac18-4e6e-fdcd-b848d92bf92c"
      },
      "execution_count": 23,
      "outputs": [
        {
          "output_type": "execute_result",
          "data": {
            "text/plain": [
              "<matplotlib.axes._subplots.AxesSubplot at 0x7f6474a4ed30>"
            ]
          },
          "metadata": {},
          "execution_count": 23
        },
        {
          "output_type": "display_data",
          "data": {
            "text/plain": [
              "<Figure size 1152x1152 with 7 Axes>"
            ],
            "image/png": "[encoded data removed]"
          },
          "metadata": {}
        }
      ]
    },
    {
      "cell_type": "code",
      "source": [
        "# After Data Cleaning\n",
        "# check the data on the target outcome\n",
        "\n",
        "data['Outcome'].value_counts()"
      ],
      "metadata": {
        "colab": {
          "base_uri": "https://localhost:8080/"
        },
        "id": "Y1yIlTVeGUxt",
        "outputId": "bf956995-1a25-406a-a1c6-e724e6d89718"
      },
      "execution_count": 24,
      "outputs": [
        {
          "output_type": "execute_result",
          "data": {
            "text/plain": [
              "0    500\n",
              "1    268\n",
              "Name: Outcome, dtype: int64"
            ]
          },
          "metadata": {},
          "execution_count": 24
        }
      ]
    },
    {
      "cell_type": "code",
      "source": [
        "# Save new file after data cleaning\n",
        "\n",
        "data.to_csv(\"Diabetes_DataCleaning.csv\", index=False)"
      ],
      "metadata": {
        "id": "HNdlJIZ-vfkR"
      },
      "execution_count": 25,
      "outputs": []
    },
    {
      "cell_type": "markdown",
      "source": [
        "**Data integration**\n",
        "\n",
        "Tidak ada proses data integration, karena data yang digunakan hanya menggunakan 1 dataset saja. "
      ],
      "metadata": {
        "id": "auocQy5yx74-"
      }
    },
    {
      "cell_type": "markdown",
      "source": [
        "**Data selection**"
      ],
      "metadata": {
        "id": "QWr317Tyx_KP"
      }
    },
    {
      "cell_type": "markdown",
      "source": [
        "Data hasil seleksi yang digunakan untuk proses data mining, disimpan dalam suatu berkas, terpisah dari basis data operasional. Pada penelitian ini, tetap menggunakan semua data yang telah dilakukan proses sebelumnya. "
      ],
      "metadata": {
        "id": "GP4z-dl6a8ra"
      }
    },
    {
      "cell_type": "markdown",
      "source": [
        "**Data transformation**\n"
      ],
      "metadata": {
        "id": "dJWqaoizyBNX"
      }
    },
    {
      "cell_type": "markdown",
      "source": [
        "Tahap ini menggunakan standardscaler"
      ],
      "metadata": {
        "id": "Idnc72iKAacK"
      }
    },
    {
      "cell_type": "markdown",
      "source": [
        "**Feature Selection**"
      ],
      "metadata": {
        "id": "zv_XBlJXa-GD"
      }
    },
    {
      "cell_type": "code",
      "source": [
        "# Feature Selection using Pearson Correlation\n",
        "corr_pearson = data.corr()\n",
        "\n",
        "plt.figure(figsize=(10,10))\n",
        "sns.heatmap(corr_pearson, cmap=\"RdBu_r\", annot=True)\n",
        "\n",
        "plt.title('Correlation Between Numeric Variables of Dataset',  y=1.05, size=15)\n",
        "plt.show()"
      ],
      "metadata": {
        "colab": {
          "base_uri": "https://localhost:8080/",
          "height": 730
        },
        "id": "f1XxrrOCNz2q",
        "outputId": "af2d1701-b3e2-41f6-f8ef-0059d4db9808"
      },
      "execution_count": 26,
      "outputs": [
        {
          "output_type": "display_data",
          "data": {
            "text/plain": [
              "<Figure size 720x720 with 2 Axes>"
            ],
            "image/png": "[encoded data removed]"
          },
          "metadata": {}
        }
      ]
    },
    {
      "cell_type": "code",
      "source": [
        "pearsoncorr = data.corr(method='pearson')\n",
        "pearsoncorr"
      ],
      "metadata": {
        "colab": {
          "base_uri": "https://localhost:8080/",
          "height": 396
        },
        "id": "6wRqb3ZvnLJS",
        "outputId": "5dbc3298-c085-43fa-99f0-76905f1f47a3"
      },
      "execution_count": 27,
      "outputs": [
        {
          "output_type": "execute_result",
          "data": {
            "text/plain": [
              "                          Pregnancies   Glucose  BloodPressure  SkinThickness  \\\n",
              "Pregnancies                  1.000000  0.126606       0.211257       0.020722   \n",
              "Glucose                      0.126606  1.000000       0.220946       0.149026   \n",
              "BloodPressure                0.211257  0.220946       1.000000       0.145294   \n",
              "SkinThickness                0.020722  0.149026       0.145294       1.000000   \n",
              "Insulin                     -0.007679  0.394778       0.017952       0.303747   \n",
              "BMI                          0.027145  0.234032       0.286509       0.548189   \n",
              "DiabetesPedigreeFunction    -0.017398  0.118236       0.015067       0.134284   \n",
              "Age                          0.549695  0.268602       0.334903       0.013831   \n",
              "Outcome                      0.220392  0.492908       0.166131       0.173868   \n",
              "\n",
              "                           Insulin       BMI  DiabetesPedigreeFunction  \\\n",
              "Pregnancies              -0.007679  0.027145                 -0.017398   \n",
              "Glucose                   0.394778  0.234032                  0.118236   \n",
              "BloodPressure             0.017952  0.286509                  0.015067   \n",
              "SkinThickness             0.303747  0.548189                  0.134284   \n",
              "Insulin                   1.000000  0.225806                  0.180001   \n",
              "BMI                       0.225806  1.000000                  0.138541   \n",
              "DiabetesPedigreeFunction  0.180001  0.138541                  1.000000   \n",
              "Age                       0.038798  0.035861                  0.047289   \n",
              "Outcome                   0.208749  0.313030                  0.184969   \n",
              "\n",
              "                               Age   Outcome  \n",
              "Pregnancies               0.549695  0.220392  \n",
              "Glucose                   0.268602  0.492908  \n",
              "BloodPressure             0.334903  0.166131  \n",
              "SkinThickness             0.013831  0.173868  \n",
              "Insulin                   0.038798  0.208749  \n",
              "BMI                       0.035861  0.313030  \n",
              "DiabetesPedigreeFunction  0.047289  0.184969  \n",
              "Age                       1.000000  0.242702  \n",
              "Outcome                   0.242702  1.000000  "
            ],
            "text/html": [
              "\n",
              "  <div id=\"df-1c286985-3330-4945-9d64-530390d0721c\">\n",
              "    <div class=\"colab-df-container\">\n",
              "      <div>\n",
              "<style scoped>\n",
              "    .dataframe tbody tr th:only-of-type {\n",
              "        vertical-align: middle;\n",
              "    }\n",
              "\n",
              "    .dataframe tbody tr th {\n",
              "        vertical-align: top;\n",
              "    }\n",
              "\n",
              "    .dataframe thead th {\n",
              "        text-align: right;\n",
              "    }\n",
              "</style>\n",
              "<table border=\"1\" class=\"dataframe\">\n",
              "  <thead>\n",
              "    <tr style=\"text-align: right;\">\n",
              "      <th></th>\n",
              "      <th>Pregnancies</th>\n",
              "      <th>Glucose</th>\n",
              "      <th>BloodPressure</th>\n",
              "      <th>SkinThickness</th>\n",
              "      <th>Insulin</th>\n",
              "      <th>BMI</th>\n",
              "      <th>DiabetesPedigreeFunction</th>\n",
              "      <th>Age</th>\n",
              "      <th>Outcome</th>\n",
              "    </tr>\n",
              "  </thead>\n",
              "  <tbody>\n",
              "    <tr>\n",
              "      <th>Pregnancies</th>\n",
              "      <td>1.000000</td>\n",
              "      <td>0.126606</td>\n",
              "      <td>0.211257</td>\n",
              "      <td>0.020722</td>\n",
              "      <td>-0.007679</td>\n",
              "      <td>0.027145</td>\n",
              "      <td>-0.017398</td>\n",
              "      <td>0.549695</td>\n",
              "      <td>0.220392</td>\n",
              "    </tr>\n",
              "    <tr>\n",
              "      <th>Glucose</th>\n",
              "      <td>0.126606</td>\n",
              "      <td>1.000000</td>\n",
              "      <td>0.220946</td>\n",
              "      <td>0.149026</td>\n",
              "      <td>0.394778</td>\n",
              "      <td>0.234032</td>\n",
              "      <td>0.118236</td>\n",
              "      <td>0.268602</td>\n",
              "      <td>0.492908</td>\n",
              "    </tr>\n",
              "    <tr>\n",
              "      <th>BloodPressure</th>\n",
              "      <td>0.211257</td>\n",
              "      <td>0.220946</td>\n",
              "      <td>1.000000</td>\n",
              "      <td>0.145294</td>\n",
              "      <td>0.017952</td>\n",
              "      <td>0.286509</td>\n",
              "      <td>0.015067</td>\n",
              "      <td>0.334903</td>\n",
              "      <td>0.166131</td>\n",
              "    </tr>\n",
              "    <tr>\n",
              "      <th>SkinThickness</th>\n",
              "      <td>0.020722</td>\n",
              "      <td>0.149026</td>\n",
              "      <td>0.145294</td>\n",
              "      <td>1.000000</td>\n",
              "      <td>0.303747</td>\n",
              "      <td>0.548189</td>\n",
              "      <td>0.134284</td>\n",
              "      <td>0.013831</td>\n",
              "      <td>0.173868</td>\n",
              "    </tr>\n",
              "    <tr>\n",
              "      <th>Insulin</th>\n",
              "      <td>-0.007679</td>\n",
              "      <td>0.394778</td>\n",
              "      <td>0.017952</td>\n",
              "      <td>0.303747</td>\n",
              "      <td>1.000000</td>\n",
              "      <td>0.225806</td>\n",
              "      <td>0.180001</td>\n",
              "      <td>0.038798</td>\n",
              "      <td>0.208749</td>\n",
              "    </tr>\n",
              "    <tr>\n",
              "      <th>BMI</th>\n",
              "      <td>0.027145</td>\n",
              "      <td>0.234032</td>\n",
              "      <td>0.286509</td>\n",
              "      <td>0.548189</td>\n",
              "      <td>0.225806</td>\n",
              "      <td>1.000000</td>\n",
              "      <td>0.138541</td>\n",
              "      <td>0.035861</td>\n",
              "      <td>0.313030</td>\n",
              "    </tr>\n",
              "    <tr>\n",
              "      <th>DiabetesPedigreeFunction</th>\n",
              "      <td>-0.017398</td>\n",
              "      <td>0.118236</td>\n",
              "      <td>0.015067</td>\n",
              "      <td>0.134284</td>\n",
              "      <td>0.180001</td>\n",
              "      <td>0.138541</td>\n",
              "      <td>1.000000</td>\n",
              "      <td>0.047289</td>\n",
              "      <td>0.184969</td>\n",
              "    </tr>\n",
              "    <tr>\n",
              "      <th>Age</th>\n",
              "      <td>0.549695</td>\n",
              "      <td>0.268602</td>\n",
              "      <td>0.334903</td>\n",
              "      <td>0.013831</td>\n",
              "      <td>0.038798</td>\n",
              "      <td>0.035861</td>\n",
              "      <td>0.047289</td>\n",
              "      <td>1.000000</td>\n",
              "      <td>0.242702</td>\n",
              "    </tr>\n",
              "    <tr>\n",
              "      <th>Outcome</th>\n",
              "      <td>0.220392</td>\n",
              "      <td>0.492908</td>\n",
              "      <td>0.166131</td>\n",
              "      <td>0.173868</td>\n",
              "      <td>0.208749</td>\n",
              "      <td>0.313030</td>\n",
              "      <td>0.184969</td>\n",
              "      <td>0.242702</td>\n",
              "      <td>1.000000</td>\n",
              "    </tr>\n",
              "  </tbody>\n",
              "</table>\n",
              "</div>\n",
              "      <button class=\"colab-df-convert\" onclick=\"convertToInteractive('df-1c286985-3330-4945-9d64-530390d0721c')\"\n",
              "              title=\"Convert this dataframe to an interactive table.\"\n",
              "              style=\"display:none;\">\n",
              "        \n",
              "  <svg xmlns=\"http://www.w3.org/2000/svg\" height=\"24px\"viewBox=\"0 0 24 24\"\n",
              "       width=\"24px\">\n",
              "    <path d=\"M0 0h24v24H0V0z\" fill=\"none\"/>\n",
              "    <path d=\"M18.56 5.44l.94 2.06.94-2.06 2.06-.94-2.06-.94-.94-2.06-.94 2.06-2.06.94zm-11 1L8.5 8.5l.94-2.06 2.06-.94-2.06-.94L8.5 2.5l-.94 2.06-2.06.94zm10 10l.94 2.06.94-2.06 2.06-.94-2.06-.94-.94-2.06-.94 2.06-2.06.94z\"/><path d=\"M17.41 7.96l-1.37-1.37c-.4-.4-.92-.59-1.43-.59-.52 0-1.04.2-1.43.59L10.3 9.45l-7.72 7.72c-.78.78-.78 2.05 0 2.83L4 21.41c.39.39.9.59 1.41.59.51 0 1.02-.2 1.41-.59l7.78-7.78 2.81-2.81c.8-.78.8-2.07 0-2.86zM5.41 20L4 18.59l7.72-7.72 1.47 1.35L5.41 20z\"/>\n",
              "  </svg>\n",
              "      </button>\n",
              "      \n",
              "  <style>\n",
              "    .colab-df-container {\n",
              "      display:flex;\n",
              "      flex-wrap:wrap;\n",
              "      gap: 12px;\n",
              "    }\n",
              "\n",
              "    .colab-df-convert {\n",
              "      background-color: #E8F0FE;\n",
              "      border: none;\n",
              "      border-radius: 50%;\n",
              "      cursor: pointer;\n",
              "      display: none;\n",
              "      fill: #1967D2;\n",
              "      height: 32px;\n",
              "      padding: 0 0 0 0;\n",
              "      width: 32px;\n",
              "    }\n",
              "\n",
              "    .colab-df-convert:hover {\n",
              "      background-color: #E2EBFA;\n",
              "      box-shadow: 0px 1px 2px rgba(60, 64, 67, 0.3), 0px 1px 3px 1px rgba(60, 64, 67, 0.15);\n",
              "      fill: #174EA6;\n",
              "    }\n",
              "\n",
              "    [theme=dark] .colab-df-convert {\n",
              "      background-color: #3B4455;\n",
              "      fill: #D2E3FC;\n",
              "    }\n",
              "\n",
              "    [theme=dark] .colab-df-convert:hover {\n",
              "      background-color: #434B5C;\n",
              "      box-shadow: 0px 1px 3px 1px rgba(0, 0, 0, 0.15);\n",
              "      filter: drop-shadow(0px 1px 2px rgba(0, 0, 0, 0.3));\n",
              "      fill: #FFFFFF;\n",
              "    }\n",
              "  </style>\n",
              "\n",
              "      <script>\n",
              "        const buttonEl =\n",
              "          document.querySelector('#df-1c286985-3330-4945-9d64-530390d0721c button.colab-df-convert');\n",
              "        buttonEl.style.display =\n",
              "          google.colab.kernel.accessAllowed ? 'block' : 'none';\n",
              "\n",
              "        async function convertToInteractive(key) {\n",
              "          const element = document.querySelector('#df-1c286985-3330-4945-9d64-530390d0721c');\n",
              "          const dataTable =\n",
              "            await google.colab.kernel.invokeFunction('convertToInteractive',\n",
              "                                                     [key], {});\n",
              "          if (!dataTable) return;\n",
              "\n",
              "          const docLinkHtml = 'Like what you see? Visit the ' +\n",
              "            '<a target=\"_blank\" href=https://colab.research.google.com/notebooks/data_table.ipynb>data table notebook</a>'\n",
              "            + ' to learn more about interactive tables.';\n",
              "          element.innerHTML = '';\n",
              "          dataTable['output_type'] = 'display_data';\n",
              "          await google.colab.output.renderOutput(dataTable, element);\n",
              "          const docLink = document.createElement('div');\n",
              "          docLink.innerHTML = docLinkHtml;\n",
              "          element.appendChild(docLink);\n",
              "        }\n",
              "      </script>\n",
              "    </div>\n",
              "  </div>\n",
              "  "
            ]
          },
          "metadata": {},
          "execution_count": 27
        }
      ]
    },
    {
      "cell_type": "markdown",
      "source": [
        "Karena pada proses ini akan menggunakan semua feature yang ada pada dataset. Maka tidak ada penghapusan feature dari dataset."
      ],
      "metadata": {
        "id": "RDfr3veULN7P"
      }
    },
    {
      "cell_type": "code",
      "source": [
        "# Change name file\n",
        "\n",
        "dataset_new_all = data"
      ],
      "metadata": {
        "id": "Mutq2KOLVv4l"
      },
      "execution_count": 28,
      "outputs": []
    },
    {
      "cell_type": "code",
      "source": [
        "# Dataset Diabetes with All features\n",
        "\n",
        "dataset_new_all.to_csv(\"diabetes_all_features.csv\", index=False)"
      ],
      "metadata": {
        "id": "j5NmmD-rvbHf"
      },
      "execution_count": 29,
      "outputs": []
    },
    {
      "cell_type": "code",
      "source": [
        "dataset_new_all"
      ],
      "metadata": {
        "colab": {
          "base_uri": "https://localhost:8080/",
          "height": 424
        },
        "id": "VZ7sX1Zm1gKb",
        "outputId": "e35504ee-f1c5-45c2-c6af-35719f65ba26"
      },
      "execution_count": 30,
      "outputs": [
        {
          "output_type": "execute_result",
          "data": {
            "text/plain": [
              "     Pregnancies  Glucose  BloodPressure  SkinThickness     Insulin   BMI  \\\n",
              "0            6.0    148.0           72.0      35.000000   79.799479  33.6   \n",
              "1            1.0     85.0           66.0      29.000000   79.799479  26.6   \n",
              "2            8.0    183.0           64.0      20.536458   79.799479  23.3   \n",
              "3            1.0     89.0           66.0      23.000000   94.000000  28.1   \n",
              "4            0.0    137.0           40.0      35.000000  168.000000  43.1   \n",
              "..           ...      ...            ...            ...         ...   ...   \n",
              "763         10.0    101.0           76.0      48.000000  180.000000  32.9   \n",
              "764          2.0    122.0           70.0      27.000000   79.799479  36.8   \n",
              "765          5.0    121.0           72.0      23.000000  112.000000  26.2   \n",
              "766          1.0    126.0           60.0      20.536458   79.799479  30.1   \n",
              "767          1.0     93.0           70.0      31.000000   79.799479  30.4   \n",
              "\n",
              "     DiabetesPedigreeFunction   Age  Outcome  \n",
              "0                       0.627  50.0        1  \n",
              "1                       0.351  31.0        0  \n",
              "2                       0.672  32.0        1  \n",
              "3                       0.167  21.0        0  \n",
              "4                       1.200  33.0        1  \n",
              "..                        ...   ...      ...  \n",
              "763                     0.171  63.0        0  \n",
              "764                     0.340  27.0        0  \n",
              "765                     0.245  30.0        0  \n",
              "766                     0.349  47.0        1  \n",
              "767                     0.315  23.0        0  \n",
              "\n",
              "[768 rows x 9 columns]"
            ],
            "text/html": [
              "\n",
              "  <div id=\"df-c4ea26eb-3829-4c77-a9d0-800e85d140e0\">\n",
              "    <div class=\"colab-df-container\">\n",
              "      <div>\n",
              "<style scoped>\n",
              "    .dataframe tbody tr th:only-of-type {\n",
              "        vertical-align: middle;\n",
              "    }\n",
              "\n",
              "    .dataframe tbody tr th {\n",
              "        vertical-align: top;\n",
              "    }\n",
              "\n",
              "    .dataframe thead th {\n",
              "        text-align: right;\n",
              "    }\n",
              "</style>\n",
              "<table border=\"1\" class=\"dataframe\">\n",
              "  <thead>\n",
              "    <tr style=\"text-align: right;\">\n",
              "      <th></th>\n",
              "      <th>Pregnancies</th>\n",
              "      <th>Glucose</th>\n",
              "      <th>BloodPressure</th>\n",
              "      <th>SkinThickness</th>\n",
              "      <th>Insulin</th>\n",
              "      <th>BMI</th>\n",
              "      <th>DiabetesPedigreeFunction</th>\n",
              "      <th>Age</th>\n",
              "      <th>Outcome</th>\n",
              "    </tr>\n",
              "  </thead>\n",
              "  <tbody>\n",
              "    <tr>\n",
              "      <th>0</th>\n",
              "      <td>6.0</td>\n",
              "      <td>148.0</td>\n",
              "      <td>72.0</td>\n",
              "      <td>35.000000</td>\n",
              "      <td>79.799479</td>\n",
              "      <td>33.6</td>\n",
              "      <td>0.627</td>\n",
              "      <td>50.0</td>\n",
              "      <td>1</td>\n",
              "    </tr>\n",
              "    <tr>\n",
              "      <th>1</th>\n",
              "      <td>1.0</td>\n",
              "      <td>85.0</td>\n",
              "      <td>66.0</td>\n",
              "      <td>29.000000</td>\n",
              "      <td>79.799479</td>\n",
              "      <td>26.6</td>\n",
              "      <td>0.351</td>\n",
              "      <td>31.0</td>\n",
              "      <td>0</td>\n",
              "    </tr>\n",
              "    <tr>\n",
              "      <th>2</th>\n",
              "      <td>8.0</td>\n",
              "      <td>183.0</td>\n",
              "      <td>64.0</td>\n",
              "      <td>20.536458</td>\n",
              "      <td>79.799479</td>\n",
              "      <td>23.3</td>\n",
              "      <td>0.672</td>\n",
              "      <td>32.0</td>\n",
              "      <td>1</td>\n",
              "    </tr>\n",
              "    <tr>\n",
              "      <th>3</th>\n",
              "      <td>1.0</td>\n",
              "      <td>89.0</td>\n",
              "      <td>66.0</td>\n",
              "      <td>23.000000</td>\n",
              "      <td>94.000000</td>\n",
              "      <td>28.1</td>\n",
              "      <td>0.167</td>\n",
              "      <td>21.0</td>\n",
              "      <td>0</td>\n",
              "    </tr>\n",
              "    <tr>\n",
              "      <th>4</th>\n",
              "      <td>0.0</td>\n",
              "      <td>137.0</td>\n",
              "      <td>40.0</td>\n",
              "      <td>35.000000</td>\n",
              "      <td>168.000000</td>\n",
              "      <td>43.1</td>\n",
              "      <td>1.200</td>\n",
              "      <td>33.0</td>\n",
              "      <td>1</td>\n",
              "    </tr>\n",
              "    <tr>\n",
              "      <th>...</th>\n",
              "      <td>...</td>\n",
              "      <td>...</td>\n",
              "      <td>...</td>\n",
              "      <td>...</td>\n",
              "      <td>...</td>\n",
              "      <td>...</td>\n",
              "      <td>...</td>\n",
              "      <td>...</td>\n",
              "      <td>...</td>\n",
              "    </tr>\n",
              "    <tr>\n",
              "      <th>763</th>\n",
              "      <td>10.0</td>\n",
              "      <td>101.0</td>\n",
              "      <td>76.0</td>\n",
              "      <td>48.000000</td>\n",
              "      <td>180.000000</td>\n",
              "      <td>32.9</td>\n",
              "      <td>0.171</td>\n",
              "      <td>63.0</td>\n",
              "      <td>0</td>\n",
              "    </tr>\n",
              "    <tr>\n",
              "      <th>764</th>\n",
              "      <td>2.0</td>\n",
              "      <td>122.0</td>\n",
              "      <td>70.0</td>\n",
              "      <td>27.000000</td>\n",
              "      <td>79.799479</td>\n",
              "      <td>36.8</td>\n",
              "      <td>0.340</td>\n",
              "      <td>27.0</td>\n",
              "      <td>0</td>\n",
              "    </tr>\n",
              "    <tr>\n",
              "      <th>765</th>\n",
              "      <td>5.0</td>\n",
              "      <td>121.0</td>\n",
              "      <td>72.0</td>\n",
              "      <td>23.000000</td>\n",
              "      <td>112.000000</td>\n",
              "      <td>26.2</td>\n",
              "      <td>0.245</td>\n",
              "      <td>30.0</td>\n",
              "      <td>0</td>\n",
              "    </tr>\n",
              "    <tr>\n",
              "      <th>766</th>\n",
              "      <td>1.0</td>\n",
              "      <td>126.0</td>\n",
              "      <td>60.0</td>\n",
              "      <td>20.536458</td>\n",
              "      <td>79.799479</td>\n",
              "      <td>30.1</td>\n",
              "      <td>0.349</td>\n",
              "      <td>47.0</td>\n",
              "      <td>1</td>\n",
              "    </tr>\n",
              "    <tr>\n",
              "      <th>767</th>\n",
              "      <td>1.0</td>\n",
              "      <td>93.0</td>\n",
              "      <td>70.0</td>\n",
              "      <td>31.000000</td>\n",
              "      <td>79.799479</td>\n",
              "      <td>30.4</td>\n",
              "      <td>0.315</td>\n",
              "      <td>23.0</td>\n",
              "      <td>0</td>\n",
              "    </tr>\n",
              "  </tbody>\n",
              "</table>\n",
              "<p>768 rows × 9 columns</p>\n",
              "</div>\n",
              "      <button class=\"colab-df-convert\" onclick=\"convertToInteractive('df-c4ea26eb-3829-4c77-a9d0-800e85d140e0')\"\n",
              "              title=\"Convert this dataframe to an interactive table.\"\n",
              "              style=\"display:none;\">\n",
              "        \n",
              "  <svg xmlns=\"http://www.w3.org/2000/svg\" height=\"24px\"viewBox=\"0 0 24 24\"\n",
              "       width=\"24px\">\n",
              "    <path d=\"M0 0h24v24H0V0z\" fill=\"none\"/>\n",
              "    <path d=\"M18.56 5.44l.94 2.06.94-2.06 2.06-.94-2.06-.94-.94-2.06-.94 2.06-2.06.94zm-11 1L8.5 8.5l.94-2.06 2.06-.94-2.06-.94L8.5 2.5l-.94 2.06-2.06.94zm10 10l.94 2.06.94-2.06 2.06-.94-2.06-.94-.94-2.06-.94 2.06-2.06.94z\"/><path d=\"M17.41 7.96l-1.37-1.37c-.4-.4-.92-.59-1.43-.59-.52 0-1.04.2-1.43.59L10.3 9.45l-7.72 7.72c-.78.78-.78 2.05 0 2.83L4 21.41c.39.39.9.59 1.41.59.51 0 1.02-.2 1.41-.59l7.78-7.78 2.81-2.81c.8-.78.8-2.07 0-2.86zM5.41 20L4 18.59l7.72-7.72 1.47 1.35L5.41 20z\"/>\n",
              "  </svg>\n",
              "      </button>\n",
              "      \n",
              "  <style>\n",
              "    .colab-df-container {\n",
              "      display:flex;\n",
              "      flex-wrap:wrap;\n",
              "      gap: 12px;\n",
              "    }\n",
              "\n",
              "    .colab-df-convert {\n",
              "      background-color: #E8F0FE;\n",
              "      border: none;\n",
              "      border-radius: 50%;\n",
              "      cursor: pointer;\n",
              "      display: none;\n",
              "      fill: #1967D2;\n",
              "      height: 32px;\n",
              "      padding: 0 0 0 0;\n",
              "      width: 32px;\n",
              "    }\n",
              "\n",
              "    .colab-df-convert:hover {\n",
              "      background-color: #E2EBFA;\n",
              "      box-shadow: 0px 1px 2px rgba(60, 64, 67, 0.3), 0px 1px 3px 1px rgba(60, 64, 67, 0.15);\n",
              "      fill: #174EA6;\n",
              "    }\n",
              "\n",
              "    [theme=dark] .colab-df-convert {\n",
              "      background-color: #3B4455;\n",
              "      fill: #D2E3FC;\n",
              "    }\n",
              "\n",
              "    [theme=dark] .colab-df-convert:hover {\n",
              "      background-color: #434B5C;\n",
              "      box-shadow: 0px 1px 3px 1px rgba(0, 0, 0, 0.15);\n",
              "      filter: drop-shadow(0px 1px 2px rgba(0, 0, 0, 0.3));\n",
              "      fill: #FFFFFF;\n",
              "    }\n",
              "  </style>\n",
              "\n",
              "      <script>\n",
              "        const buttonEl =\n",
              "          document.querySelector('#df-c4ea26eb-3829-4c77-a9d0-800e85d140e0 button.colab-df-convert');\n",
              "        buttonEl.style.display =\n",
              "          google.colab.kernel.accessAllowed ? 'block' : 'none';\n",
              "\n",
              "        async function convertToInteractive(key) {\n",
              "          const element = document.querySelector('#df-c4ea26eb-3829-4c77-a9d0-800e85d140e0');\n",
              "          const dataTable =\n",
              "            await google.colab.kernel.invokeFunction('convertToInteractive',\n",
              "                                                     [key], {});\n",
              "          if (!dataTable) return;\n",
              "\n",
              "          const docLinkHtml = 'Like what you see? Visit the ' +\n",
              "            '<a target=\"_blank\" href=https://colab.research.google.com/notebooks/data_table.ipynb>data table notebook</a>'\n",
              "            + ' to learn more about interactive tables.';\n",
              "          element.innerHTML = '';\n",
              "          dataTable['output_type'] = 'display_data';\n",
              "          await google.colab.output.renderOutput(dataTable, element);\n",
              "          const docLink = document.createElement('div');\n",
              "          docLink.innerHTML = docLinkHtml;\n",
              "          element.appendChild(docLink);\n",
              "        }\n",
              "      </script>\n",
              "    </div>\n",
              "  </div>\n",
              "  "
            ]
          },
          "metadata": {},
          "execution_count": 30
        }
      ]
    },
    {
      "cell_type": "code",
      "source": [
        "from sklearn.preprocessing import StandardScaler\n",
        "# Standarisasi \n",
        "\n",
        "scaler = StandardScaler()\n",
        "dataset_new_all.iloc[:, :-1] = scaler.fit_transform(dataset_new_all.iloc[:, :-1])\n",
        "dataset_new_all"
      ],
      "metadata": {
        "id": "_MMmINJ3dSj9",
        "colab": {
          "base_uri": "https://localhost:8080/",
          "height": 468
        },
        "outputId": "0e4e67db-2b39-4c71-be09-1fc07ea7b3de"
      },
      "execution_count": 31,
      "outputs": [
        {
          "output_type": "execute_result",
          "data": {
            "text/plain": [
              "     Pregnancies   Glucose  BloodPressure  SkinThickness   Insulin       BMI  \\\n",
              "0       0.647150  0.865276      -0.019315       0.936123 -0.515442  0.181733   \n",
              "1      -0.848970 -1.205989      -0.531737       0.277236 -0.515442 -0.868800   \n",
              "2       1.245598  2.015979      -0.702545      -0.652184 -0.515442 -1.364051   \n",
              "3      -0.848970 -1.074480      -0.531737      -0.381651 -0.211679 -0.643686   \n",
              "4      -1.148194  0.503626      -2.752234       0.936123  1.371253  1.607456   \n",
              "..           ...       ...            ...            ...       ...       ...   \n",
              "763     1.844045 -0.679954       0.322300       2.363711  1.627945  0.076680   \n",
              "764    -0.549746  0.010468      -0.190122       0.057607 -0.515442  0.661976   \n",
              "765     0.347926 -0.022409      -0.019315      -0.381651  0.173359 -0.928831   \n",
              "766    -0.848970  0.141977      -1.044160      -0.652184 -0.515442 -0.343534   \n",
              "767    -0.848970 -0.942972      -0.190122       0.496865 -0.515442 -0.298511   \n",
              "\n",
              "     DiabetesPedigreeFunction       Age  Outcome  \n",
              "0                    0.588927  1.445691        1  \n",
              "1                   -0.378101 -0.189304        0  \n",
              "2                    0.746595 -0.103252        1  \n",
              "3                   -1.022787 -1.049828        0  \n",
              "4                    2.596563 -0.017199        1  \n",
              "..                        ...       ...      ...  \n",
              "763                 -1.008772  2.564372        0  \n",
              "764                 -0.416642 -0.533513        0  \n",
              "765                 -0.749497 -0.275356        0  \n",
              "766                 -0.385109  1.187534        1  \n",
              "767                 -0.504236 -0.877723        0  \n",
              "\n",
              "[768 rows x 9 columns]"
            ],
            "text/html": [
              "\n",
              "  <div id=\"df-82e2678a-22af-40e3-815f-193848b2df1a\">\n",
              "    <div class=\"colab-df-container\">\n",
              "      <div>\n",
              "<style scoped>\n",
              "    .dataframe tbody tr th:only-of-type {\n",
              "        vertical-align: middle;\n",
              "    }\n",
              "\n",
              "    .dataframe tbody tr th {\n",
              "        vertical-align: top;\n",
              "    }\n",
              "\n",
              "    .dataframe thead th {\n",
              "        text-align: right;\n",
              "    }\n",
              "</style>\n",
              "<table border=\"1\" class=\"dataframe\">\n",
              "  <thead>\n",
              "    <tr style=\"text-align: right;\">\n",
              "      <th></th>\n",
              "      <th>Pregnancies</th>\n",
              "      <th>Glucose</th>\n",
              "      <th>BloodPressure</th>\n",
              "      <th>SkinThickness</th>\n",
              "      <th>Insulin</th>\n",
              "      <th>BMI</th>\n",
              "      <th>DiabetesPedigreeFunction</th>\n",
              "      <th>Age</th>\n",
              "      <th>Outcome</th>\n",
              "    </tr>\n",
              "  </thead>\n",
              "  <tbody>\n",
              "    <tr>\n",
              "      <th>0</th>\n",
              "      <td>0.647150</td>\n",
              "      <td>0.865276</td>\n",
              "      <td>-0.019315</td>\n",
              "      <td>0.936123</td>\n",
              "      <td>-0.515442</td>\n",
              "      <td>0.181733</td>\n",
              "      <td>0.588927</td>\n",
              "      <td>1.445691</td>\n",
              "      <td>1</td>\n",
              "    </tr>\n",
              "    <tr>\n",
              "      <th>1</th>\n",
              "      <td>-0.848970</td>\n",
              "      <td>-1.205989</td>\n",
              "      <td>-0.531737</td>\n",
              "      <td>0.277236</td>\n",
              "      <td>-0.515442</td>\n",
              "      <td>-0.868800</td>\n",
              "      <td>-0.378101</td>\n",
              "      <td>-0.189304</td>\n",
              "      <td>0</td>\n",
              "    </tr>\n",
              "    <tr>\n",
              "      <th>2</th>\n",
              "      <td>1.245598</td>\n",
              "      <td>2.015979</td>\n",
              "      <td>-0.702545</td>\n",
              "      <td>-0.652184</td>\n",
              "      <td>-0.515442</td>\n",
              "      <td>-1.364051</td>\n",
              "      <td>0.746595</td>\n",
              "      <td>-0.103252</td>\n",
              "      <td>1</td>\n",
              "    </tr>\n",
              "    <tr>\n",
              "      <th>3</th>\n",
              "      <td>-0.848970</td>\n",
              "      <td>-1.074480</td>\n",
              "      <td>-0.531737</td>\n",
              "      <td>-0.381651</td>\n",
              "      <td>-0.211679</td>\n",
              "      <td>-0.643686</td>\n",
              "      <td>-1.022787</td>\n",
              "      <td>-1.049828</td>\n",
              "      <td>0</td>\n",
              "    </tr>\n",
              "    <tr>\n",
              "      <th>4</th>\n",
              "      <td>-1.148194</td>\n",
              "      <td>0.503626</td>\n",
              "      <td>-2.752234</td>\n",
              "      <td>0.936123</td>\n",
              "      <td>1.371253</td>\n",
              "      <td>1.607456</td>\n",
              "      <td>2.596563</td>\n",
              "      <td>-0.017199</td>\n",
              "      <td>1</td>\n",
              "    </tr>\n",
              "    <tr>\n",
              "      <th>...</th>\n",
              "      <td>...</td>\n",
              "      <td>...</td>\n",
              "      <td>...</td>\n",
              "      <td>...</td>\n",
              "      <td>...</td>\n",
              "      <td>...</td>\n",
              "      <td>...</td>\n",
              "      <td>...</td>\n",
              "      <td>...</td>\n",
              "    </tr>\n",
              "    <tr>\n",
              "      <th>763</th>\n",
              "      <td>1.844045</td>\n",
              "      <td>-0.679954</td>\n",
              "      <td>0.322300</td>\n",
              "      <td>2.363711</td>\n",
              "      <td>1.627945</td>\n",
              "      <td>0.076680</td>\n",
              "      <td>-1.008772</td>\n",
              "      <td>2.564372</td>\n",
              "      <td>0</td>\n",
              "    </tr>\n",
              "    <tr>\n",
              "      <th>764</th>\n",
              "      <td>-0.549746</td>\n",
              "      <td>0.010468</td>\n",
              "      <td>-0.190122</td>\n",
              "      <td>0.057607</td>\n",
              "      <td>-0.515442</td>\n",
              "      <td>0.661976</td>\n",
              "      <td>-0.416642</td>\n",
              "      <td>-0.533513</td>\n",
              "      <td>0</td>\n",
              "    </tr>\n",
              "    <tr>\n",
              "      <th>765</th>\n",
              "      <td>0.347926</td>\n",
              "      <td>-0.022409</td>\n",
              "      <td>-0.019315</td>\n",
              "      <td>-0.381651</td>\n",
              "      <td>0.173359</td>\n",
              "      <td>-0.928831</td>\n",
              "      <td>-0.749497</td>\n",
              "      <td>-0.275356</td>\n",
              "      <td>0</td>\n",
              "    </tr>\n",
              "    <tr>\n",
              "      <th>766</th>\n",
              "      <td>-0.848970</td>\n",
              "      <td>0.141977</td>\n",
              "      <td>-1.044160</td>\n",
              "      <td>-0.652184</td>\n",
              "      <td>-0.515442</td>\n",
              "      <td>-0.343534</td>\n",
              "      <td>-0.385109</td>\n",
              "      <td>1.187534</td>\n",
              "      <td>1</td>\n",
              "    </tr>\n",
              "    <tr>\n",
              "      <th>767</th>\n",
              "      <td>-0.848970</td>\n",
              "      <td>-0.942972</td>\n",
              "      <td>-0.190122</td>\n",
              "      <td>0.496865</td>\n",
              "      <td>-0.515442</td>\n",
              "      <td>-0.298511</td>\n",
              "      <td>-0.504236</td>\n",
              "      <td>-0.877723</td>\n",
              "      <td>0</td>\n",
              "    </tr>\n",
              "  </tbody>\n",
              "</table>\n",
              "<p>768 rows × 9 columns</p>\n",
              "</div>\n",
              "      <button class=\"colab-df-convert\" onclick=\"convertToInteractive('df-82e2678a-22af-40e3-815f-193848b2df1a')\"\n",
              "              title=\"Convert this dataframe to an interactive table.\"\n",
              "              style=\"display:none;\">\n",
              "        \n",
              "  <svg xmlns=\"http://www.w3.org/2000/svg\" height=\"24px\"viewBox=\"0 0 24 24\"\n",
              "       width=\"24px\">\n",
              "    <path d=\"M0 0h24v24H0V0z\" fill=\"none\"/>\n",
              "    <path d=\"M18.56 5.44l.94 2.06.94-2.06 2.06-.94-2.06-.94-.94-2.06-.94 2.06-2.06.94zm-11 1L8.5 8.5l.94-2.06 2.06-.94-2.06-.94L8.5 2.5l-.94 2.06-2.06.94zm10 10l.94 2.06.94-2.06 2.06-.94-2.06-.94-.94-2.06-.94 2.06-2.06.94z\"/><path d=\"M17.41 7.96l-1.37-1.37c-.4-.4-.92-.59-1.43-.59-.52 0-1.04.2-1.43.59L10.3 9.45l-7.72 7.72c-.78.78-.78 2.05 0 2.83L4 21.41c.39.39.9.59 1.41.59.51 0 1.02-.2 1.41-.59l7.78-7.78 2.81-2.81c.8-.78.8-2.07 0-2.86zM5.41 20L4 18.59l7.72-7.72 1.47 1.35L5.41 20z\"/>\n",
              "  </svg>\n",
              "      </button>\n",
              "      \n",
              "  <style>\n",
              "    .colab-df-container {\n",
              "      display:flex;\n",
              "      flex-wrap:wrap;\n",
              "      gap: 12px;\n",
              "    }\n",
              "\n",
              "    .colab-df-convert {\n",
              "      background-color: #E8F0FE;\n",
              "      border: none;\n",
              "      border-radius: 50%;\n",
              "      cursor: pointer;\n",
              "      display: none;\n",
              "      fill: #1967D2;\n",
              "      height: 32px;\n",
              "      padding: 0 0 0 0;\n",
              "      width: 32px;\n",
              "    }\n",
              "\n",
              "    .colab-df-convert:hover {\n",
              "      background-color: #E2EBFA;\n",
              "      box-shadow: 0px 1px 2px rgba(60, 64, 67, 0.3), 0px 1px 3px 1px rgba(60, 64, 67, 0.15);\n",
              "      fill: #174EA6;\n",
              "    }\n",
              "\n",
              "    [theme=dark] .colab-df-convert {\n",
              "      background-color: #3B4455;\n",
              "      fill: #D2E3FC;\n",
              "    }\n",
              "\n",
              "    [theme=dark] .colab-df-convert:hover {\n",
              "      background-color: #434B5C;\n",
              "      box-shadow: 0px 1px 3px 1px rgba(0, 0, 0, 0.15);\n",
              "      filter: drop-shadow(0px 1px 2px rgba(0, 0, 0, 0.3));\n",
              "      fill: #FFFFFF;\n",
              "    }\n",
              "  </style>\n",
              "\n",
              "      <script>\n",
              "        const buttonEl =\n",
              "          document.querySelector('#df-82e2678a-22af-40e3-815f-193848b2df1a button.colab-df-convert');\n",
              "        buttonEl.style.display =\n",
              "          google.colab.kernel.accessAllowed ? 'block' : 'none';\n",
              "\n",
              "        async function convertToInteractive(key) {\n",
              "          const element = document.querySelector('#df-82e2678a-22af-40e3-815f-193848b2df1a');\n",
              "          const dataTable =\n",
              "            await google.colab.kernel.invokeFunction('convertToInteractive',\n",
              "                                                     [key], {});\n",
              "          if (!dataTable) return;\n",
              "\n",
              "          const docLinkHtml = 'Like what you see? Visit the ' +\n",
              "            '<a target=\"_blank\" href=https://colab.research.google.com/notebooks/data_table.ipynb>data table notebook</a>'\n",
              "            + ' to learn more about interactive tables.';\n",
              "          element.innerHTML = '';\n",
              "          dataTable['output_type'] = 'display_data';\n",
              "          await google.colab.output.renderOutput(dataTable, element);\n",
              "          const docLink = document.createElement('div');\n",
              "          docLink.innerHTML = docLinkHtml;\n",
              "          element.appendChild(docLink);\n",
              "        }\n",
              "      </script>\n",
              "    </div>\n",
              "  </div>\n",
              "  "
            ]
          },
          "metadata": {},
          "execution_count": 31
        }
      ]
    },
    {
      "cell_type": "code",
      "source": [
        "# Dataset Diabetes with All features\n",
        "\n",
        "dataset_new_all.to_csv(\"diabetes_after_preprocessing_all.csv\", index=False)"
      ],
      "metadata": {
        "id": "0vGRv0Og7_Fi"
      },
      "execution_count": 32,
      "outputs": []
    },
    {
      "cell_type": "code",
      "source": [
        "# Choosing x and y\n",
        "\n",
        "#target = 'Outcome'\n",
        "#Feature_variables = dataset_new.drop(target, axis=1) #independent (x)\n",
        "#Target_variable = dataset_new[target].astype(int) #dependent (y)\n",
        "\n",
        "Feature_variables = dataset_new_all.iloc[:, :-1]\n",
        "Target_variable = dataset_new_all.iloc[:, -1]"
      ],
      "metadata": {
        "id": "_DDBNbdBWx3V"
      },
      "execution_count": 33,
      "outputs": []
    },
    {
      "cell_type": "markdown",
      "source": [
        "[:, -1]: pilih semua baris, kolom terakhir.\n",
        "\n",
        "[:, :-1]: pilih semua baris dalam dataset, serta semua kolom kecuali kolom terakhir (ingat negative indexing pada Python)."
      ],
      "metadata": {
        "id": "YwEzzj2W_m3I"
      }
    },
    {
      "cell_type": "code",
      "source": [
        "Feature_variables # data variable x"
      ],
      "metadata": {
        "colab": {
          "base_uri": "https://localhost:8080/",
          "height": 424
        },
        "id": "9bI6R0_G7dWK",
        "outputId": "686d9537-322b-403f-8dd0-9813fdc0dd27"
      },
      "execution_count": 34,
      "outputs": [
        {
          "output_type": "execute_result",
          "data": {
            "text/plain": [
              "     Pregnancies   Glucose  BloodPressure  SkinThickness   Insulin       BMI  \\\n",
              "0       0.647150  0.865276      -0.019315       0.936123 -0.515442  0.181733   \n",
              "1      -0.848970 -1.205989      -0.531737       0.277236 -0.515442 -0.868800   \n",
              "2       1.245598  2.015979      -0.702545      -0.652184 -0.515442 -1.364051   \n",
              "3      -0.848970 -1.074480      -0.531737      -0.381651 -0.211679 -0.643686   \n",
              "4      -1.148194  0.503626      -2.752234       0.936123  1.371253  1.607456   \n",
              "..           ...       ...            ...            ...       ...       ...   \n",
              "763     1.844045 -0.679954       0.322300       2.363711  1.627945  0.076680   \n",
              "764    -0.549746  0.010468      -0.190122       0.057607 -0.515442  0.661976   \n",
              "765     0.347926 -0.022409      -0.019315      -0.381651  0.173359 -0.928831   \n",
              "766    -0.848970  0.141977      -1.044160      -0.652184 -0.515442 -0.343534   \n",
              "767    -0.848970 -0.942972      -0.190122       0.496865 -0.515442 -0.298511   \n",
              "\n",
              "     DiabetesPedigreeFunction       Age  \n",
              "0                    0.588927  1.445691  \n",
              "1                   -0.378101 -0.189304  \n",
              "2                    0.746595 -0.103252  \n",
              "3                   -1.022787 -1.049828  \n",
              "4                    2.596563 -0.017199  \n",
              "..                        ...       ...  \n",
              "763                 -1.008772  2.564372  \n",
              "764                 -0.416642 -0.533513  \n",
              "765                 -0.749497 -0.275356  \n",
              "766                 -0.385109  1.187534  \n",
              "767                 -0.504236 -0.877723  \n",
              "\n",
              "[768 rows x 8 columns]"
            ],
            "text/html": [
              "\n",
              "  <div id=\"df-5ae27c75-4682-41f5-aa31-497b23720e73\">\n",
              "    <div class=\"colab-df-container\">\n",
              "      <div>\n",
              "<style scoped>\n",
              "    .dataframe tbody tr th:only-of-type {\n",
              "        vertical-align: middle;\n",
              "    }\n",
              "\n",
              "    .dataframe tbody tr th {\n",
              "        vertical-align: top;\n",
              "    }\n",
              "\n",
              "    .dataframe thead th {\n",
              "        text-align: right;\n",
              "    }\n",
              "</style>\n",
              "<table border=\"1\" class=\"dataframe\">\n",
              "  <thead>\n",
              "    <tr style=\"text-align: right;\">\n",
              "      <th></th>\n",
              "      <th>Pregnancies</th>\n",
              "      <th>Glucose</th>\n",
              "      <th>BloodPressure</th>\n",
              "      <th>SkinThickness</th>\n",
              "      <th>Insulin</th>\n",
              "      <th>BMI</th>\n",
              "      <th>DiabetesPedigreeFunction</th>\n",
              "      <th>Age</th>\n",
              "    </tr>\n",
              "  </thead>\n",
              "  <tbody>\n",
              "    <tr>\n",
              "      <th>0</th>\n",
              "      <td>0.647150</td>\n",
              "      <td>0.865276</td>\n",
              "      <td>-0.019315</td>\n",
              "      <td>0.936123</td>\n",
              "      <td>-0.515442</td>\n",
              "      <td>0.181733</td>\n",
              "      <td>0.588927</td>\n",
              "      <td>1.445691</td>\n",
              "    </tr>\n",
              "    <tr>\n",
              "      <th>1</th>\n",
              "      <td>-0.848970</td>\n",
              "      <td>-1.205989</td>\n",
              "      <td>-0.531737</td>\n",
              "      <td>0.277236</td>\n",
              "      <td>-0.515442</td>\n",
              "      <td>-0.868800</td>\n",
              "      <td>-0.378101</td>\n",
              "      <td>-0.189304</td>\n",
              "    </tr>\n",
              "    <tr>\n",
              "      <th>2</th>\n",
              "      <td>1.245598</td>\n",
              "      <td>2.015979</td>\n",
              "      <td>-0.702545</td>\n",
              "      <td>-0.652184</td>\n",
              "      <td>-0.515442</td>\n",
              "      <td>-1.364051</td>\n",
              "      <td>0.746595</td>\n",
              "      <td>-0.103252</td>\n",
              "    </tr>\n",
              "    <tr>\n",
              "      <th>3</th>\n",
              "      <td>-0.848970</td>\n",
              "      <td>-1.074480</td>\n",
              "      <td>-0.531737</td>\n",
              "      <td>-0.381651</td>\n",
              "      <td>-0.211679</td>\n",
              "      <td>-0.643686</td>\n",
              "      <td>-1.022787</td>\n",
              "      <td>-1.049828</td>\n",
              "    </tr>\n",
              "    <tr>\n",
              "      <th>4</th>\n",
              "      <td>-1.148194</td>\n",
              "      <td>0.503626</td>\n",
              "      <td>-2.752234</td>\n",
              "      <td>0.936123</td>\n",
              "      <td>1.371253</td>\n",
              "      <td>1.607456</td>\n",
              "      <td>2.596563</td>\n",
              "      <td>-0.017199</td>\n",
              "    </tr>\n",
              "    <tr>\n",
              "      <th>...</th>\n",
              "      <td>...</td>\n",
              "      <td>...</td>\n",
              "      <td>...</td>\n",
              "      <td>...</td>\n",
              "      <td>...</td>\n",
              "      <td>...</td>\n",
              "      <td>...</td>\n",
              "      <td>...</td>\n",
              "    </tr>\n",
              "    <tr>\n",
              "      <th>763</th>\n",
              "      <td>1.844045</td>\n",
              "      <td>-0.679954</td>\n",
              "      <td>0.322300</td>\n",
              "      <td>2.363711</td>\n",
              "      <td>1.627945</td>\n",
              "      <td>0.076680</td>\n",
              "      <td>-1.008772</td>\n",
              "      <td>2.564372</td>\n",
              "    </tr>\n",
              "    <tr>\n",
              "      <th>764</th>\n",
              "      <td>-0.549746</td>\n",
              "      <td>0.010468</td>\n",
              "      <td>-0.190122</td>\n",
              "      <td>0.057607</td>\n",
              "      <td>-0.515442</td>\n",
              "      <td>0.661976</td>\n",
              "      <td>-0.416642</td>\n",
              "      <td>-0.533513</td>\n",
              "    </tr>\n",
              "    <tr>\n",
              "      <th>765</th>\n",
              "      <td>0.347926</td>\n",
              "      <td>-0.022409</td>\n",
              "      <td>-0.019315</td>\n",
              "      <td>-0.381651</td>\n",
              "      <td>0.173359</td>\n",
              "      <td>-0.928831</td>\n",
              "      <td>-0.749497</td>\n",
              "      <td>-0.275356</td>\n",
              "    </tr>\n",
              "    <tr>\n",
              "      <th>766</th>\n",
              "      <td>-0.848970</td>\n",
              "      <td>0.141977</td>\n",
              "      <td>-1.044160</td>\n",
              "      <td>-0.652184</td>\n",
              "      <td>-0.515442</td>\n",
              "      <td>-0.343534</td>\n",
              "      <td>-0.385109</td>\n",
              "      <td>1.187534</td>\n",
              "    </tr>\n",
              "    <tr>\n",
              "      <th>767</th>\n",
              "      <td>-0.848970</td>\n",
              "      <td>-0.942972</td>\n",
              "      <td>-0.190122</td>\n",
              "      <td>0.496865</td>\n",
              "      <td>-0.515442</td>\n",
              "      <td>-0.298511</td>\n",
              "      <td>-0.504236</td>\n",
              "      <td>-0.877723</td>\n",
              "    </tr>\n",
              "  </tbody>\n",
              "</table>\n",
              "<p>768 rows × 8 columns</p>\n",
              "</div>\n",
              "      <button class=\"colab-df-convert\" onclick=\"convertToInteractive('df-5ae27c75-4682-41f5-aa31-497b23720e73')\"\n",
              "              title=\"Convert this dataframe to an interactive table.\"\n",
              "              style=\"display:none;\">\n",
              "        \n",
              "  <svg xmlns=\"http://www.w3.org/2000/svg\" height=\"24px\"viewBox=\"0 0 24 24\"\n",
              "       width=\"24px\">\n",
              "    <path d=\"M0 0h24v24H0V0z\" fill=\"none\"/>\n",
              "    <path d=\"M18.56 5.44l.94 2.06.94-2.06 2.06-.94-2.06-.94-.94-2.06-.94 2.06-2.06.94zm-11 1L8.5 8.5l.94-2.06 2.06-.94-2.06-.94L8.5 2.5l-.94 2.06-2.06.94zm10 10l.94 2.06.94-2.06 2.06-.94-2.06-.94-.94-2.06-.94 2.06-2.06.94z\"/><path d=\"M17.41 7.96l-1.37-1.37c-.4-.4-.92-.59-1.43-.59-.52 0-1.04.2-1.43.59L10.3 9.45l-7.72 7.72c-.78.78-.78 2.05 0 2.83L4 21.41c.39.39.9.59 1.41.59.51 0 1.02-.2 1.41-.59l7.78-7.78 2.81-2.81c.8-.78.8-2.07 0-2.86zM5.41 20L4 18.59l7.72-7.72 1.47 1.35L5.41 20z\"/>\n",
              "  </svg>\n",
              "      </button>\n",
              "      \n",
              "  <style>\n",
              "    .colab-df-container {\n",
              "      display:flex;\n",
              "      flex-wrap:wrap;\n",
              "      gap: 12px;\n",
              "    }\n",
              "\n",
              "    .colab-df-convert {\n",
              "      background-color: #E8F0FE;\n",
              "      border: none;\n",
              "      border-radius: 50%;\n",
              "      cursor: pointer;\n",
              "      display: none;\n",
              "      fill: #1967D2;\n",
              "      height: 32px;\n",
              "      padding: 0 0 0 0;\n",
              "      width: 32px;\n",
              "    }\n",
              "\n",
              "    .colab-df-convert:hover {\n",
              "      background-color: #E2EBFA;\n",
              "      box-shadow: 0px 1px 2px rgba(60, 64, 67, 0.3), 0px 1px 3px 1px rgba(60, 64, 67, 0.15);\n",
              "      fill: #174EA6;\n",
              "    }\n",
              "\n",
              "    [theme=dark] .colab-df-convert {\n",
              "      background-color: #3B4455;\n",
              "      fill: #D2E3FC;\n",
              "    }\n",
              "\n",
              "    [theme=dark] .colab-df-convert:hover {\n",
              "      background-color: #434B5C;\n",
              "      box-shadow: 0px 1px 3px 1px rgba(0, 0, 0, 0.15);\n",
              "      filter: drop-shadow(0px 1px 2px rgba(0, 0, 0, 0.3));\n",
              "      fill: #FFFFFF;\n",
              "    }\n",
              "  </style>\n",
              "\n",
              "      <script>\n",
              "        const buttonEl =\n",
              "          document.querySelector('#df-5ae27c75-4682-41f5-aa31-497b23720e73 button.colab-df-convert');\n",
              "        buttonEl.style.display =\n",
              "          google.colab.kernel.accessAllowed ? 'block' : 'none';\n",
              "\n",
              "        async function convertToInteractive(key) {\n",
              "          const element = document.querySelector('#df-5ae27c75-4682-41f5-aa31-497b23720e73');\n",
              "          const dataTable =\n",
              "            await google.colab.kernel.invokeFunction('convertToInteractive',\n",
              "                                                     [key], {});\n",
              "          if (!dataTable) return;\n",
              "\n",
              "          const docLinkHtml = 'Like what you see? Visit the ' +\n",
              "            '<a target=\"_blank\" href=https://colab.research.google.com/notebooks/data_table.ipynb>data table notebook</a>'\n",
              "            + ' to learn more about interactive tables.';\n",
              "          element.innerHTML = '';\n",
              "          dataTable['output_type'] = 'display_data';\n",
              "          await google.colab.output.renderOutput(dataTable, element);\n",
              "          const docLink = document.createElement('div');\n",
              "          docLink.innerHTML = docLinkHtml;\n",
              "          element.appendChild(docLink);\n",
              "        }\n",
              "      </script>\n",
              "    </div>\n",
              "  </div>\n",
              "  "
            ]
          },
          "metadata": {},
          "execution_count": 34
        }
      ]
    },
    {
      "cell_type": "code",
      "source": [
        "Target_variable # data variable y"
      ],
      "metadata": {
        "colab": {
          "base_uri": "https://localhost:8080/"
        },
        "id": "ZDUsRn4Jo0JH",
        "outputId": "0f4b92ad-c80e-4cd9-f223-b18ca18df20a"
      },
      "execution_count": 35,
      "outputs": [
        {
          "output_type": "execute_result",
          "data": {
            "text/plain": [
              "0      1\n",
              "1      0\n",
              "2      1\n",
              "3      0\n",
              "4      1\n",
              "      ..\n",
              "763    0\n",
              "764    0\n",
              "765    0\n",
              "766    1\n",
              "767    0\n",
              "Name: Outcome, Length: 768, dtype: int64"
            ]
          },
          "metadata": {},
          "execution_count": 35
        }
      ]
    },
    {
      "cell_type": "code",
      "source": [
        "# Check independent and dependent variables\n",
        "print(Feature_variables.shape)\n",
        "print(Target_variable.shape)"
      ],
      "metadata": {
        "colab": {
          "base_uri": "https://localhost:8080/"
        },
        "id": "y8BwsVaZXPOy",
        "outputId": "fea3e4b5-014f-4283-b3a6-bb3e672b7678"
      },
      "execution_count": 36,
      "outputs": [
        {
          "output_type": "stream",
          "name": "stdout",
          "text": [
            "(768, 8)\n",
            "(768,)\n"
          ]
        }
      ]
    },
    {
      "cell_type": "markdown",
      "source": [
        "# Data Split\n",
        "\n",
        "---\n",
        "\n"
      ],
      "metadata": {
        "id": "8O2Gj9Epv7wF"
      }
    },
    {
      "cell_type": "markdown",
      "source": [
        "Data training : building model \n",
        "\n",
        "Data testing : evaluation model \n",
        "\n",
        "Explain Parameter\n",
        "\n",
        "\n",
        "*   test_size is the number that defines the size of the testing set. \n",
        "*   train_size is the number that defines the size of the training set. \n",
        "*   random_state is the object that controls randomization during splitting. \n",
        "\n",
        "*   shuffle is the boolean\n",
        "\n"
      ],
      "metadata": {
        "id": "ZgIPzbmbwSle"
      }
    },
    {
      "cell_type": "code",
      "source": [
        "# import library  \n",
        "from sklearn.model_selection import train_test_split\n",
        "\n",
        "X_train, X_test, y_train, y_test = train_test_split(Feature_variables, Target_variable, test_size = 0.2, random_state=1)"
      ],
      "metadata": {
        "id": "iPEG7e0nv9y_"
      },
      "execution_count": 37,
      "outputs": []
    },
    {
      "cell_type": "markdown",
      "source": [
        "\n",
        "\n",
        "*   X_train = the training part of the first sequence (Feature_variables_x)\n",
        "*   X_test = the test part of the first sequence (Feature_variables_x)\n",
        "*   y_train = the training part of the second sequence (Target_variable)\n",
        "*   y_test = the test part of the second sequence (Target_variable)\n",
        "\n",
        "\n"
      ],
      "metadata": {
        "id": "yZBj3TwxS6DC"
      }
    },
    {
      "cell_type": "code",
      "source": [
        "# Size of train set and test set\n",
        "\n",
        "print('Result from Data Split of Dataset Diabetes')\n",
        "print ('Train set:', X_train.shape,  y_train.shape)\n",
        "print ('Test set:', X_test.shape,  y_test.shape)"
      ],
      "metadata": {
        "colab": {
          "base_uri": "https://localhost:8080/"
        },
        "id": "qHstwYF8LD25",
        "outputId": "c90ea597-aca3-48e7-d6ea-bb91a7924028"
      },
      "execution_count": 38,
      "outputs": [
        {
          "output_type": "stream",
          "name": "stdout",
          "text": [
            "Result from Data Split of Dataset Diabetes\n",
            "Train set: (614, 8) (614,)\n",
            "Test set: (154, 8) (154,)\n"
          ]
        }
      ]
    },
    {
      "cell_type": "markdown",
      "source": [
        "# Building Model and Testing Model\n",
        "---\n",
        "with All Features\n",
        "\n"
      ],
      "metadata": {
        "id": "vPZlm5ulv9-1"
      }
    },
    {
      "cell_type": "code",
      "source": [
        "pip install neupy"
      ],
      "metadata": {
        "colab": {
          "base_uri": "https://localhost:8080/"
        },
        "id": "nqw7nXIa5hW3",
        "outputId": "07dffb3f-0b18-4649-8edd-2ae7fe76e61b"
      },
      "execution_count": 39,
      "outputs": [
        {
          "output_type": "stream",
          "name": "stdout",
          "text": [
            "Looking in indexes: https://pypi.org/simple, https://us-python.pkg.dev/colab-wheels/public/simple/\n",
            "Collecting neupy\n",
            "  Downloading neupy-0.8.2-py2.py3-none-any.whl (226 kB)\n",
            "\u001b[2K     \u001b[90m━━━━━━━━━━━━━━━━━━━━━━━━━━━━━━━━━━━━━━━\u001b[0m \u001b[32m226.8/226.8 KB\u001b[0m \u001b[31m5.7 MB/s\u001b[0m eta \u001b[36m0:00:00\u001b[0m\n",
            "\u001b[?25hRequirement already satisfied: matplotlib>=1.5.1 in /usr/local/lib/python3.8/dist-packages (from neupy) (3.2.2)\n",
            "Collecting graphviz==0.5.1\n",
            "  Downloading graphviz-0.5.1-py2.py3-none-any.whl (14 kB)\n",
            "Requirement already satisfied: numpy>=1.13.3 in /usr/local/lib/python3.8/dist-packages (from neupy) (1.21.6)\n",
            "Requirement already satisfied: scipy>=0.19.0 in /usr/local/lib/python3.8/dist-packages (from neupy) (1.7.3)\n",
            "Requirement already satisfied: h5py in /usr/local/lib/python3.8/dist-packages (from neupy) (3.1.0)\n",
            "Collecting neupy\n",
            "  Downloading neupy-0.8.1-py2.py3-none-any.whl (225 kB)\n",
            "\u001b[2K     \u001b[90m━━━━━━━━━━━━━━━━━━━━━━━━━━━━━━━━━━━━━━\u001b[0m \u001b[32m226.0/226.0 KB\u001b[0m \u001b[31m15.7 MB/s\u001b[0m eta \u001b[36m0:00:00\u001b[0m\n",
            "\u001b[?25h  Downloading neupy-0.8.0-py2.py3-none-any.whl (224 kB)\n",
            "\u001b[2K     \u001b[90m━━━━━━━━━━━━━━━━━━━━━━━━━━━━━━━━━━━━━━\u001b[0m \u001b[32m224.7/224.7 KB\u001b[0m \u001b[31m17.9 MB/s\u001b[0m eta \u001b[36m0:00:00\u001b[0m\n",
            "\u001b[?25h  Downloading neupy-0.7.3-py2.py3-none-any.whl (212 kB)\n",
            "\u001b[2K     \u001b[90m━━━━━━━━━━━━━━━━━━━━━━━━━━━━━━━━━━━━━━\u001b[0m \u001b[32m212.3/212.3 KB\u001b[0m \u001b[31m17.8 MB/s\u001b[0m eta \u001b[36m0:00:00\u001b[0m\n",
            "\u001b[?25hCollecting tableprint==0.7.1\n",
            "  Downloading tableprint-0.7.1.tar.gz (6.7 kB)\n",
            "  Preparing metadata (setup.py) ... \u001b[?25l\u001b[?25hdone\n",
            "Collecting neupy\n",
            "  Downloading neupy-0.7.2-py2.py3-none-any.whl (208 kB)\n",
            "\u001b[2K     \u001b[90m━━━━━━━━━━━━━━━━━━━━━━━━━━━━━━━━━━━━━━\u001b[0m \u001b[32m208.5/208.5 KB\u001b[0m \u001b[31m15.6 MB/s\u001b[0m eta \u001b[36m0:00:00\u001b[0m\n",
            "\u001b[?25hCollecting progressbar2==3.34.3\n",
            "  Downloading progressbar2-3.34.3-py2.py3-none-any.whl (25 kB)\n",
            "Collecting neupy\n",
            "  Downloading neupy-0.7.1-py2.py3-none-any.whl (207 kB)\n",
            "\u001b[2K     \u001b[90m━━━━━━━━━━━━━━━━━━━━━━━━━━━━━━━━━━━━━━\u001b[0m \u001b[32m208.0/208.0 KB\u001b[0m \u001b[31m14.8 MB/s\u001b[0m eta \u001b[36m0:00:00\u001b[0m\n",
            "\u001b[?25h  Downloading neupy-0.7.0-py2.py3-none-any.whl (198 kB)\n",
            "\u001b[2K     \u001b[90m━━━━━━━━━━━━━━━━━━━━━━━━━━━━━━━━━━━━━━\u001b[0m \u001b[32m198.6/198.6 KB\u001b[0m \u001b[31m15.6 MB/s\u001b[0m eta \u001b[36m0:00:00\u001b[0m\n",
            "\u001b[?25h  Downloading neupy-0.6.5-py2.py3-none-any.whl (197 kB)\n",
            "\u001b[2K     \u001b[90m━━━━━━━━━━━━━━━━━━━━━━━━━━━━━━━━━━━━━━━\u001b[0m \u001b[32m197.2/197.2 KB\u001b[0m \u001b[31m8.1 MB/s\u001b[0m eta \u001b[36m0:00:00\u001b[0m\n",
            "\u001b[?25hCollecting Theano==1.0.0\n",
            "  Downloading Theano-1.0.0.tar.gz (2.9 MB)\n",
            "\u001b[2K     \u001b[90m━━━━━━━━━━━━━━━━━━━━━━━━━━━━━━━━━━━━━━━━\u001b[0m \u001b[32m2.9/2.9 MB\u001b[0m \u001b[31m45.2 MB/s\u001b[0m eta \u001b[36m0:00:00\u001b[0m\n",
            "\u001b[?25h  Preparing metadata (setup.py) ... \u001b[?25l\u001b[?25hdone\n",
            "Requirement already satisfied: python-utils>=2.1.0 in /usr/local/lib/python3.8/dist-packages (from progressbar2==3.34.3->neupy) (3.4.5)\n",
            "Requirement already satisfied: six in /usr/local/lib/python3.8/dist-packages (from tableprint==0.7.1->neupy) (1.15.0)\n",
            "Requirement already satisfied: future in /usr/local/lib/python3.8/dist-packages (from tableprint==0.7.1->neupy) (0.16.0)\n",
            "Requirement already satisfied: wcwidth in /usr/local/lib/python3.8/dist-packages (from tableprint==0.7.1->neupy) (0.2.5)\n",
            "Requirement already satisfied: pyparsing!=2.0.4,!=2.1.2,!=2.1.6,>=2.0.1 in /usr/local/lib/python3.8/dist-packages (from matplotlib>=1.5.1->neupy) (3.0.9)\n",
            "Requirement already satisfied: cycler>=0.10 in /usr/local/lib/python3.8/dist-packages (from matplotlib>=1.5.1->neupy) (0.11.0)\n",
            "Requirement already satisfied: python-dateutil>=2.1 in /usr/local/lib/python3.8/dist-packages (from matplotlib>=1.5.1->neupy) (2.8.2)\n",
            "Requirement already satisfied: kiwisolver>=1.0.1 in /usr/local/lib/python3.8/dist-packages (from matplotlib>=1.5.1->neupy) (1.4.4)\n",
            "Building wheels for collected packages: tableprint, Theano\n",
            "  Building wheel for tableprint (setup.py) ... \u001b[?25l\u001b[?25hdone\n",
            "  Created wheel for tableprint: filename=tableprint-0.7.1-py3-none-any.whl size=6180 sha256=4d5b881949ede1a5c2ecce2be5dff90921a99066e2ec5571ec1884ca1bfb33ae\n",
            "  Stored in directory: /root/.cache/pip/wheels/2a/fb/c4/17fc43089b508234a1574d517ec7bd774caa61a703daae8591\n",
            "  Building wheel for Theano (setup.py) ... \u001b[?25l\u001b[?25hdone\n",
            "  Created wheel for Theano: filename=Theano-1.0.0-py3-none-any.whl size=2649598 sha256=2430a945c267f00376766483c786efe91c7054d0b595781589177624b4070509\n",
            "  Stored in directory: /root/.cache/pip/wheels/c8/b3/71/beeb7461597ca685a5951d7055577932c553c3be4aacb6d33a\n",
            "Successfully built tableprint Theano\n",
            "Installing collected packages: graphviz, tableprint, progressbar2, Theano, neupy\n",
            "  Attempting uninstall: graphviz\n",
            "    Found existing installation: graphviz 0.10.1\n",
            "    Uninstalling graphviz-0.10.1:\n",
            "      Successfully uninstalled graphviz-0.10.1\n",
            "  Attempting uninstall: progressbar2\n",
            "    Found existing installation: progressbar2 3.38.0\n",
            "    Uninstalling progressbar2-3.38.0:\n",
            "      Successfully uninstalled progressbar2-3.38.0\n",
            "Successfully installed Theano-1.0.0 graphviz-0.5.1 neupy-0.6.5 progressbar2-3.34.3 tableprint-0.7.1\n"
          ]
        }
      ]
    },
    {
      "cell_type": "code",
      "source": [
        "# Library for Modelling and Evaluation \n",
        "\n",
        "from sklearn.neighbors import KNeighborsClassifier #Library kNN\n",
        "from sklearn.metrics import accuracy_score  #for accuracy_score\n",
        "from sklearn.datasets import make_classification  \n",
        "from sklearn.model_selection import KFold #for k-Fold Cross Validation\n",
        "from sklearn.model_selection import cross_val_score #score evaluation\n",
        "from sklearn.model_selection import cross_val_predict #prediction\n",
        "from sklearn.metrics._plot.confusion_matrix import confusion_matrix #for confusion matrix\n",
        "from sklearn import metrics \n",
        "import numpy \n",
        "from neupy import algorithms  # Library Neural Network"
      ],
      "metadata": {
        "id": "HUgdnHfGUVsW"
      },
      "execution_count": 40,
      "outputs": []
    },
    {
      "cell_type": "markdown",
      "source": [
        "# Probabilistic Neural Network"
      ],
      "metadata": {
        "id": "gXz3ftFb-ao6"
      }
    },
    {
      "cell_type": "code",
      "source": [
        "# Accuracy for Probabilistic Neural Network \n",
        "\n",
        "variable_std = range(1,16)\n",
        "\n",
        "test_pnn_accuracy = []\n",
        "result_kfold_pnn = []\n",
        "for i ,s in enumerate(variable_std, start=1):\n",
        "  model_pnn = algorithms.PNN(std=s, verbose=False).fit(X_train, y_train)\n",
        "  y_predict = model_pnn.predict(X_test)\n",
        "\n",
        "  test_pnn_accuracy.append(accuracy_score(y_predict,y_test))\n",
        "  print('Value of Std = ',i, 'The Accuracy of the Probabilistic Neural Network Classifier is',round(test_pnn_accuracy[i-1]*100,1))\n",
        "\n",
        "plt.figure(figsize=(13,6))\n",
        "plt.plot(variable_std, test_pnn_accuracy, label = \"Testing Accuracy PNN\", color='red')\n",
        "plt.legend()\n",
        "print()\n",
        "plt.title('Value s vs Accuracy Result Probabilistic Neural Network Algorithm With All Features', pad=5, y=1.05, size=20 )\n",
        "plt.xlabel('Number of s', fontsize=15)\n",
        "plt.ylabel('Value of Accuracy', fontsize=15)\n",
        "plt.savefig('Graph_Accuracy_PNN_All.png')\n",
        "plt.xticks(variable_std)\n",
        "plt.show()"
      ],
      "metadata": {
        "colab": {
          "base_uri": "https://localhost:8080/",
          "height": 724
        },
        "id": "7qD4IjqKrwO8",
        "outputId": "78285d04-21c1-4cd2-b5b7-736e599a69b9"
      },
      "execution_count": 41,
      "outputs": [
        {
          "output_type": "stream",
          "name": "stderr",
          "text": [
            "Time: 0:00:00 |N/A%|                                           | ETA:  --:--:--"
          ]
        },
        {
          "output_type": "stream",
          "name": "stdout",
          "text": [
            "Value of Std =  1 The Accuracy of the Probabilistic Neural Network Classifier is 77.3\n",
            "Value of Std =  2 The Accuracy of the Probabilistic Neural Network Classifier is 80.5\n",
            "Value of Std =  3 The Accuracy of the Probabilistic Neural Network Classifier is 78.6\n",
            "Value of Std =  4 The Accuracy of the Probabilistic Neural Network Classifier is 77.9\n",
            "Value of Std =  5 The Accuracy of the Probabilistic Neural Network Classifier is 78.6\n",
            "Value of Std =  6 The Accuracy of the Probabilistic Neural Network Classifier is 77.9\n",
            "Value of Std =  7 The Accuracy of the Probabilistic Neural Network Classifier is 77.9\n",
            "Value of Std =  8 The Accuracy of the Probabilistic Neural Network Classifier is 77.9\n",
            "Value of Std =  9 The Accuracy of the Probabilistic Neural Network Classifier is 77.9\n",
            "Value of Std =  10 The Accuracy of the Probabilistic Neural Network Classifier is 77.9\n"
          ]
        },
        {
          "output_type": "stream",
          "name": "stderr",
          "text": []
        },
        {
          "output_type": "stream",
          "name": "stdout",
          "text": [
            "Value of Std =  11 The Accuracy of the Probabilistic Neural Network Classifier is 77.9\n",
            "Value of Std =  12 The Accuracy of the Probabilistic Neural Network Classifier is 77.9\n",
            "Value of Std =  13 The Accuracy of the Probabilistic Neural Network Classifier is 77.9\n",
            "Value of Std =  14 The Accuracy of the Probabilistic Neural Network Classifier is 77.9\n",
            "Value of Std =  15 The Accuracy of the Probabilistic Neural Network Classifier is 77.9\n",
            "\n"
          ]
        },
        {
          "output_type": "display_data",
          "data": {
            "text/plain": [
              "<Figure size 936x432 with 1 Axes>"
            ],
            "image/png": "[encoded data removed]"
          },
          "metadata": {}
        }
      ]
    },
    {
      "cell_type": "code",
      "source": [
        "# Accuracy from K-Fold Cross Validation\n",
        "classifier_pnn = algorithms.PNN(std=2, verbose=False).fit(X_train, y_train)\n",
        "kfold_pnn = KFold(n_splits=4, random_state=0, shuffle=True) # k=10, split the data into 10 equal parts\n",
        "result_pnn=cross_val_score(classifier_pnn, Feature_variables, Target_variable, cv=kfold_pnn,scoring='accuracy', n_jobs=1)\n",
        "print(result_pnn*100)\n",
        "print('Hasil rata - rata Akurasi PNN -> K-Fold dengan All Features : ', round(result_pnn.mean()*100,1))"
      ],
      "metadata": {
        "colab": {
          "base_uri": "https://localhost:8080/"
        },
        "id": "qsu-3SQpOs6N",
        "outputId": "759f5e88-f7aa-4e82-a38a-f3d24a20fdd2"
      },
      "execution_count": 42,
      "outputs": [
        {
          "output_type": "stream",
          "name": "stderr",
          "text": [
            "Time: 0:00:00 |N/A%|                                           | ETA:  --:--:--"
          ]
        },
        {
          "output_type": "stream",
          "name": "stdout",
          "text": [
            "[75.52083333 73.95833333 77.08333333 70.83333333]\n",
            "Hasil rata - rata Akurasi PNN -> K-Fold dengan All Features :  74.3\n"
          ]
        },
        {
          "output_type": "stream",
          "name": "stderr",
          "text": [
            "\r                                                                               \r"
          ]
        }
      ]
    },
    {
      "cell_type": "code",
      "source": [
        "from sklearn.metrics._plot.confusion_matrix import confusion_matrix\n",
        "classifier_pnn = algorithms.PNN(std=2, verbose=False, batch_size=128).fit(X_train, y_train)\n",
        "predict_pnn = classifier_pnn.predict(X_test)\n",
        "\n",
        "cm = confusion_matrix(y_test, predict_pnn)\n",
        "print('Confusion Matrix \\n', cm)\n",
        "\n",
        "print()\n",
        "sns.heatmap(cm, annot=True, fmt=\"f\").set_title('Confusion Matrix PNN All Features')"
      ],
      "metadata": {
        "colab": {
          "base_uri": "https://localhost:8080/",
          "height": 368
        },
        "id": "tnU20E9X6SNP",
        "outputId": "2673340f-5898-4726-99ac-1b8b1e4569d8"
      },
      "execution_count": 43,
      "outputs": [
        {
          "output_type": "stream",
          "name": "stderr",
          "text": []
        },
        {
          "output_type": "stream",
          "name": "stdout",
          "text": [
            "Confusion Matrix \n",
            " [[80 19]\n",
            " [11 44]]\n",
            "\n"
          ]
        },
        {
          "output_type": "execute_result",
          "data": {
            "text/plain": [
              "Text(0.5, 1.0, 'Confusion Matrix PNN All Features')"
            ]
          },
          "metadata": {},
          "execution_count": 43
        },
        {
          "output_type": "display_data",
          "data": {
            "text/plain": [
              "<Figure size 432x288 with 2 Axes>"
            ],
            "image/png": "[encoded data removed]"
          },
          "metadata": {}
        }
      ]
    },
    {
      "cell_type": "markdown",
      "source": [
        "# k-Nearest Neighbor\n",
        "\n"
      ],
      "metadata": {
        "id": "GmfeK8jqwAyW"
      }
    },
    {
      "cell_type": "code",
      "source": [
        "# Modelling of algorithms k-Nearest Neighbor \n",
        "# import library \n",
        "from sklearn.neighbors import KNeighborsClassifier \n",
        "\n",
        "# train model and predict \n",
        "error_rate = []\n",
        "\n",
        "# n = input value\n",
        "for n in range (1,16):\n",
        "  modelknn = KNeighborsClassifier(n_neighbors=n, metric='euclidean').fit(X_train, y_train) \n",
        "  predictKNN = modelknn.predict(X_test)\n",
        "\n",
        "  error_rate.append(np.mean(predictKNN   != y_test))\n",
        "\n",
        "plt.figure(figsize=(13,6))\n",
        "plt.plot(range(1,16), error_rate, color='black', marker ='o', markerfacecolor='green', markersize=10)\n",
        "plt.title('Mean Error vs K Value of k-Nearest Neighbor Algorithm With All Features', y=1.05, size=15)\n",
        "plt.xlabel('Value K')\n",
        "plt.ylabel('Mean Error')\n",
        "plt.savefig('Mean_Error_KNN_All.png')\n",
        "plt.show()"
      ],
      "metadata": {
        "colab": {
          "base_uri": "https://localhost:8080/",
          "height": 422
        },
        "id": "fJr_rqyOw0gv",
        "outputId": "f4c95538-832d-4eba-fe0c-34cc4b6b1acb"
      },
      "execution_count": 44,
      "outputs": [
        {
          "output_type": "display_data",
          "data": {
            "text/plain": [
              "<Figure size 936x432 with 1 Axes>"
            ],
            "image/png": "[encoded data removed]"
          },
          "metadata": {}
        }
      ]
    },
    {
      "cell_type": "code",
      "source": [
        "# Evaluation K-Nearest Neighbor with KFold Cross Validation \n",
        "\n",
        "n_neighbor = range(1,16)\n",
        "\n",
        "test_knn_accuracy = []\n",
        "result_kfold_knn = []\n",
        "\n",
        "for i ,n in enumerate(n_neighbor, start=1):\n",
        "  modelknn = KNeighborsClassifier(n_neighbors = n, metric='euclidean')\n",
        "  modelknn.fit(X_train,y_train) # Fit the model instances with .fit() using the training set.\n",
        "  predictKNN=modelknn.predict(X_test) \n",
        "\n",
        "  test_knn_accuracy.append(accuracy_score(predictKNN,y_test))\n",
        "  print('Value of neighbors = ',i, 'The accuracy of the k-Nearst Neighbors Classifier is',round(test_knn_accuracy[i-1]*100,1))\n",
        "\n",
        "# Graphic Accuracy \n",
        "plt.figure(figsize=(13,6))\n",
        "plt.plot(n_neighbor, test_knn_accuracy, label = \"Testing Accuracy k-NN\", color='green')\n",
        "plt.legend()\n",
        "print()\n",
        "plt.title('Value k vs Accuracy Result k-Nearest Neighbor Algorithm With All Features',pad=5, y=1.05, size=20 )\n",
        "plt.xlabel('Number of k', fontsize=15)\n",
        "plt.ylabel('Value of Accuracy', fontsize=15)\n",
        "plt.xticks(n_neighbor)\n",
        "plt.savefig('Graph_Accuracy_KNN_All.png')\n",
        "plt.show()"
      ],
      "metadata": {
        "colab": {
          "base_uri": "https://localhost:8080/",
          "height": 707
        },
        "id": "WzmrVmEM-a-A",
        "outputId": "2b0aa739-6728-4826-dfc9-836859c181ba"
      },
      "execution_count": 45,
      "outputs": [
        {
          "output_type": "stream",
          "name": "stdout",
          "text": [
            "Value of neighbors =  1 The accuracy of the k-Nearst Neighbors Classifier is 64.3\n",
            "Value of neighbors =  2 The accuracy of the k-Nearst Neighbors Classifier is 71.4\n",
            "Value of neighbors =  3 The accuracy of the k-Nearst Neighbors Classifier is 72.1\n",
            "Value of neighbors =  4 The accuracy of the k-Nearst Neighbors Classifier is 72.1\n",
            "Value of neighbors =  5 The accuracy of the k-Nearst Neighbors Classifier is 76.6\n",
            "Value of neighbors =  6 The accuracy of the k-Nearst Neighbors Classifier is 75.3\n",
            "Value of neighbors =  7 The accuracy of the k-Nearst Neighbors Classifier is 78.6\n",
            "Value of neighbors =  8 The accuracy of the k-Nearst Neighbors Classifier is 76.6\n",
            "Value of neighbors =  9 The accuracy of the k-Nearst Neighbors Classifier is 79.9\n",
            "Value of neighbors =  10 The accuracy of the k-Nearst Neighbors Classifier is 77.9\n",
            "Value of neighbors =  11 The accuracy of the k-Nearst Neighbors Classifier is 80.5\n",
            "Value of neighbors =  12 The accuracy of the k-Nearst Neighbors Classifier is 78.6\n",
            "Value of neighbors =  13 The accuracy of the k-Nearst Neighbors Classifier is 77.3\n",
            "Value of neighbors =  14 The accuracy of the k-Nearst Neighbors Classifier is 77.3\n",
            "Value of neighbors =  15 The accuracy of the k-Nearst Neighbors Classifier is 77.9\n",
            "\n"
          ]
        },
        {
          "output_type": "display_data",
          "data": {
            "text/plain": [
              "<Figure size 936x432 with 1 Axes>"
            ],
            "image/png": "[encoded data removed]"
          },
          "metadata": {}
        }
      ]
    },
    {
      "cell_type": "code",
      "source": [
        "# Accuracy from K-Fold Cross Validation\n",
        "classifier_knn= KNeighborsClassifier(n_neighbors = 11, metric='euclidean').fit(X_train, y_train)\n",
        "kfold_knn = KFold(n_splits=4, random_state=0, shuffle=True) # k=10, split the data into 10 equal parts\n",
        "result_knn=cross_val_score(classifier_knn, Feature_variables, Target_variable, cv=kfold_knn,scoring='accuracy', n_jobs=1)\n",
        "print(result_knn*100)\n",
        "print('Hasil rata - rata Akurasi KNN -> K-Fold dengan All Features : ', round(result_knn.mean()*100,1))"
      ],
      "metadata": {
        "colab": {
          "base_uri": "https://localhost:8080/"
        },
        "id": "MXy-dJeH-Nt9",
        "outputId": "b85f1876-c9e9-4fbd-d898-76386219bf41"
      },
      "execution_count": 46,
      "outputs": [
        {
          "output_type": "stream",
          "name": "stdout",
          "text": [
            "[78.125      70.3125     77.60416667 72.39583333]\n",
            "Hasil rata - rata Akurasi KNN -> K-Fold dengan All Features :  74.6\n"
          ]
        }
      ]
    },
    {
      "cell_type": "code",
      "source": [
        "# Confusion Matrix\n",
        "from sklearn.metrics._plot.confusion_matrix import confusion_matrix\n",
        "classifier_knn = KNeighborsClassifier(n_neighbors = 11, metric='euclidean').fit(X_train, y_train)\n",
        "predict_knn=classifier_knn.predict(X_test) \n",
        "\n",
        "cm = confusion_matrix(y_test, predict_knn)\n",
        "print('Confusion Matrix \\n', cm)\n",
        "\n",
        "print()\n",
        "sns.heatmap(cm, annot=True, fmt=\"f\").set_title('Confusion Matrix k-NN All Features')"
      ],
      "metadata": {
        "colab": {
          "base_uri": "https://localhost:8080/",
          "height": 368
        },
        "id": "5kcfRxYb6iBB",
        "outputId": "3048a6d2-b3e0-406e-e44f-5d38f1ed34ee"
      },
      "execution_count": 47,
      "outputs": [
        {
          "output_type": "stream",
          "name": "stdout",
          "text": [
            "Confusion Matrix \n",
            " [[90  9]\n",
            " [21 34]]\n",
            "\n"
          ]
        },
        {
          "output_type": "execute_result",
          "data": {
            "text/plain": [
              "Text(0.5, 1.0, 'Confusion Matrix k-NN All Features')"
            ]
          },
          "metadata": {},
          "execution_count": 47
        },
        {
          "output_type": "display_data",
          "data": {
            "text/plain": [
              "<Figure size 432x288 with 2 Axes>"
            ],
            "image/png": "[encoded data removed]"
          },
          "metadata": {}
        }
      ]
    },
    {
      "cell_type": "markdown",
      "source": [
        "**Graphic from PNN and k-NN with all features**"
      ],
      "metadata": {
        "id": "V8VQriXFzHaq"
      }
    },
    {
      "cell_type": "code",
      "source": [
        "# Graphic Accuracy from KFold\n",
        "plt.figure(figsize=(13,6))\n",
        "plt.plot(result_knn, label = \"Accuracy k-NN\", color='green',marker ='o', markerfacecolor='black', markersize=10)\n",
        "plt.plot(result_pnn, label = \"Accuracy PNN\", color='red',marker ='o', markerfacecolor='yellow', markersize=10)\n",
        "plt.legend()\n",
        "print()\n",
        "plt.title('K-Fold Accuracy Results of K-NN and PNN Algorithms with All Features',pad=5, y=1.05, size=15 )\n",
        "plt.xlabel('Number of k', fontsize=15)\n",
        "plt.ylabel('Value of Accuracy', fontsize=15)\n",
        "plt.savefig('Graph_Accuracy_KFOLD_AllFeatures.png')\n",
        "plt.show()"
      ],
      "metadata": {
        "colab": {
          "base_uri": "https://localhost:8080/",
          "height": 443
        },
        "id": "fDyt28VlzESL",
        "outputId": "0fc2bf06-ee1a-4d4b-e6f5-715f06e3798b"
      },
      "execution_count": 48,
      "outputs": [
        {
          "output_type": "stream",
          "name": "stdout",
          "text": [
            "\n"
          ]
        },
        {
          "output_type": "display_data",
          "data": {
            "text/plain": [
              "<Figure size 936x432 with 1 Axes>"
            ],
            "image/png": "[encoded data removed]"
          },
          "metadata": {}
        }
      ]
    },
    {
      "cell_type": "markdown",
      "source": [
        "Save Model "
      ],
      "metadata": {
        "id": "5QS14Art9YE2"
      }
    },
    {
      "cell_type": "code",
      "source": [
        "#joblib.dump(modelknn, 'model-klasifikasi-diabetes.pkl')"
      ],
      "metadata": {
        "id": "cTWSiOoL9bE-"
      },
      "execution_count": 49,
      "outputs": []
    },
    {
      "cell_type": "code",
      "source": [
        "#lmodel = joblib.load('model-klasifikasi-diabetes.pkl)"
      ],
      "metadata": {
        "id": "rmwuf9qK9iy9"
      },
      "execution_count": 50,
      "outputs": []
    }
  ]
}